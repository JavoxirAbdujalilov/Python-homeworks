{
 "cells": [
  {
   "cell_type": "code",
   "execution_count": 2,
   "id": "de00f137",
   "metadata": {},
   "outputs": [
    {
     "name": "stdout",
     "output_type": "stream",
     "text": [
      "Peach\n"
     ]
    }
   ],
   "source": [
    "# Create and Access List Elements\n",
    "# Create a list containing five different fruits and print the third fruit.\n",
    "mylist = [\"Apple\", \"Banana\", \"Peach\", \"Orange\", \"limon\"]\n",
    "print(mylist[2])\n"
   ]
  },
  {
   "cell_type": "code",
   "execution_count": 3,
   "id": "d6898d89",
   "metadata": {},
   "outputs": [
    {
     "name": "stdout",
     "output_type": "stream",
     "text": [
      "[1, 2, 3, 4, 5, 6, 1, 7]\n"
     ]
    }
   ],
   "source": [
    " #Concatenate Two Lists\n",
    "# Create two lists of numbers and concatenate them into a single list.\n",
    "num1 = [1, 2, 3, 4]\n",
    "num2 = [5, 6, 1, 7]\n",
    "totalnum = num1 + num2\n",
    "print(totalnum)"
   ]
  },
  {
   "cell_type": "code",
   "execution_count": 7,
   "id": "cced7794",
   "metadata": {},
   "outputs": [
    {
     "name": "stdout",
     "output_type": "stream",
     "text": [
      "1 11 6\n"
     ]
    }
   ],
   "source": [
    "# Extract Elements from a List\n",
    "# Given a list of numbers, extract the first, middle, and last elements and store them in a new list.\n",
    "import math\n",
    "exlist = [1, 2, 3, 6, 7, 9, 11]\n",
    "print (exlist[0], exlist[-1], exlist[math.floor((len(exlist)/2))])\n"
   ]
  },
  {
   "cell_type": "code",
   "execution_count": 8,
   "id": "1e9ea4dd",
   "metadata": {},
   "outputs": [
    {
     "data": {
      "text/plain": [
       "('John', 'Hello', 1, 2, 3, 4, (1+2j))"
      ]
     },
     "execution_count": 8,
     "metadata": {},
     "output_type": "execute_result"
    }
   ],
   "source": [
    " #Convert List to Tuple\n",
    "# Create a list of your five favorite movies and convert it into a tuple.\n",
    "mylist2 = [\"John\",\"Hello\", 1, 2, 3, 4, 1+2j]\n",
    "mytuple = tuple(mylist2)\n",
    "mytuple"
   ]
  },
  {
   "cell_type": "code",
   "execution_count": 9,
   "id": "99814525",
   "metadata": {},
   "outputs": [
    {
     "name": "stdout",
     "output_type": "stream",
     "text": [
      "Paris is in the cities\n"
     ]
    }
   ],
   "source": [
    "# Check Element in a List\n",
    "# Given a list of cities, check if \"Paris\" is in the list and print the result.\n",
    "cities = [\"London\", \"Paris\", \"New York\", \"Tokyo\", \"Tashkent\"]\n",
    "\n",
    "if  \"Paris\" in cities:\n",
    "    print(\"Paris is in the cities\")\n",
    "else:\n",
    "    print(\"Paris is not in the cities\")\n"
   ]
  },
  {
   "cell_type": "code",
   "execution_count": 10,
   "id": "8d6668e6",
   "metadata": {},
   "outputs": [
    {
     "name": "stdout",
     "output_type": "stream",
     "text": [
      "[1, 2, 3, 4, 5, 1, 2, 3, 4, 5]\n"
     ]
    }
   ],
   "source": [
    "# Duplicate a List Without Using Loops\n",
    "# Create a list of numbers and duplicate it without using loops.\n",
    "mylist3 = [1, 2, 3, 4, 5]\n",
    "duplicate = mylist3*2\n",
    "print(duplicate)\n",
    "\n"
   ]
  },
  {
   "cell_type": "code",
   "execution_count": 12,
   "id": "3b1bb9bb",
   "metadata": {},
   "outputs": [
    {
     "name": "stdout",
     "output_type": "stream",
     "text": [
      "[5, 2, 3, 4, 1]\n"
     ]
    }
   ],
   "source": [
    "# Swap First and Last Elements of a List\n",
    "# Given a list of numbers, swap the first and last elements.\n",
    "mylist1 = [1, 2, 3, 4, 5]\n",
    "mylist1[0], mylist1[-1] = mylist1[-1], mylist1[0]\n",
    "\n",
    "print(mylist1)\n",
    "\n",
    "\n",
    "\n"
   ]
  },
  {
   "cell_type": "code",
   "execution_count": 14,
   "id": "38676674",
   "metadata": {},
   "outputs": [
    {
     "data": {
      "text/plain": [
       "(3, 4, 5, 6, 7)"
      ]
     },
     "execution_count": 14,
     "metadata": {},
     "output_type": "execute_result"
    }
   ],
   "source": [
    " # Slice a Tuple\n",
    "# Create a tuple of numbers from 1 to 10 and print a slice from index 3 to 7.\n",
    "\n",
    "mytuple2 = (1, 2, 3, 4, 5, 6, 7, 8, 9, 10)\n",
    "mytuple2[2:7]"
   ]
  },
  {
   "cell_type": "code",
   "execution_count": 15,
   "id": "fdbcae67",
   "metadata": {},
   "outputs": [
    {
     "data": {
      "text/plain": [
       "1"
      ]
     },
     "execution_count": 15,
     "metadata": {},
     "output_type": "execute_result"
    }
   ],
   "source": [
    "# Count Occurrences in a List\n",
    "# Create a list of colors and count how many times \"blue\" appears in the list.\n",
    "colors = ['red', 'blue', 'green', 'yellow', 'purple', 'orange']\n",
    "colors.count('blue')\n"
   ]
  },
  {
   "cell_type": "code",
   "execution_count": 17,
   "id": "5e55793b",
   "metadata": {},
   "outputs": [
    {
     "name": "stdout",
     "output_type": "stream",
     "text": [
      "2\n"
     ]
    }
   ],
   "source": [
    "# Find the Index of an Element in a Tuple\n",
    "# Given a tuple of animals, find the index of \"lion\".\n",
    "animals = ('fox', 'wolf','lion',  'bear')\n",
    "lion_index = animals.index(\"lion\")\n",
    "print(lion_index)\n"
   ]
  },
  {
   "cell_type": "code",
   "execution_count": 19,
   "id": "87a21734",
   "metadata": {},
   "outputs": [
    {
     "name": "stdout",
     "output_type": "stream",
     "text": [
      "Maximum =  21\n",
      "Minimum =  1\n"
     ]
    }
   ],
   "source": [
    "# Find Maximum and Minimum in a Tuple\n",
    "# Given a tuple of numbers, find and print the maximum and minimum values.\n",
    "mytuple3 = (1, 2, 3, 4, 7, 11, 21, 9, 13, 17)\n",
    "maximum = max(mytuple3)\n",
    "minimum = min(mytuple3)\n",
    "print(\"Maximum = \", maximum)\n",
    "print(\"Minimum = \", minimum)\n"
   ]
  },
  {
   "cell_type": "code",
   "execution_count": 21,
   "id": "b68e59b6",
   "metadata": {},
   "outputs": [
    {
     "data": {
      "text/plain": [
       "(9, 8, 4, 1, 7, 3, 2, 1)"
      ]
     },
     "execution_count": 21,
     "metadata": {},
     "output_type": "execute_result"
    }
   ],
   "source": [
    "# Reverse a Tuple\n",
    "# Create a tuple of words and print it in reverse order.\n",
    "mytuple4 = (1, 2, 3, 7, 1, 4, 8, 9)\n",
    "reversed_tuple = mytuple4[::-1]\n",
    "reversed_tuple\n"
   ]
  }
 ],
 "metadata": {
  "kernelspec": {
   "display_name": "Python 3",
   "language": "python",
   "name": "python3"
  },
  "language_info": {
   "codemirror_mode": {
    "name": "ipython",
    "version": 3
   },
   "file_extension": ".py",
   "mimetype": "text/x-python",
   "name": "python",
   "nbconvert_exporter": "python",
   "pygments_lexer": "ipython3",
   "version": "3.13.5"
  }
 },
 "nbformat": 4,
 "nbformat_minor": 5
}
