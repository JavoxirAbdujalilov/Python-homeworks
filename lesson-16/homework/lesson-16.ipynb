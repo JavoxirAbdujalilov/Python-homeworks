{
 "cells": [
  {
   "cell_type": "code",
   "execution_count": 4,
   "id": "239cbed7",
   "metadata": {},
   "outputs": [
    {
     "name": "stdout",
     "output_type": "stream",
     "text": [
      "[ 12.23  13.32 100.    36.32]\n"
     ]
    }
   ],
   "source": [
    "import numpy as np\n",
    "my_list =  [12.23, 13.32, 100, 36.32] \n",
    "arr = np.array(my_list)\n",
    "print(arr)"
   ]
  },
  {
   "cell_type": "code",
   "execution_count": 9,
   "id": "55f905ff",
   "metadata": {},
   "outputs": [
    {
     "name": "stdout",
     "output_type": "stream",
     "text": [
      "[[ 2  3  4]\n",
      " [ 5  6  7]\n",
      " [ 8  9 10]]\n"
     ]
    }
   ],
   "source": [
    "# Create 3x3 Matrix (2?10)\n",
    "arr3d = np.arange(2,11).reshape(3,3)\n",
    "print(arr3d)"
   ]
  },
  {
   "cell_type": "code",
   "execution_count": 15,
   "id": "33cd55ae",
   "metadata": {},
   "outputs": [
    {
     "name": "stdout",
     "output_type": "stream",
     "text": [
      "[ 0.  0.  0.  0.  0. 11.  0.  0.  0.  0.]\n"
     ]
    }
   ],
   "source": [
    "# Null Vector (10) & Update Sixth Value\n",
    "# Write a NumPy program to create a null vector of size 10 and update the sixth value to 11.\n",
    "# np.zeros((2, 3))                 # 2x3 array of zeros\n",
    "arrzero = np.zeros(10)\n",
    "arrzero[5] = 11\n",
    "print(arrzero)"
   ]
  },
  {
   "cell_type": "code",
   "execution_count": 17,
   "id": "ef2413e8",
   "metadata": {},
   "outputs": [
    {
     "name": "stdout",
     "output_type": "stream",
     "text": [
      "[12 13 14 15 16 17 18 19 20 21 22 23 24 25 26 27 28 29 30 31 32 33 34 35\n",
      " 36 37 38]\n"
     ]
    }
   ],
   "source": [
    "# Array from 12 to 38\n",
    "# Write a NumPy program to create an array with values ranging from 12 to 38.\n",
    "arr1 = np.arange(12,39)\n",
    "print(arr1)"
   ]
  },
  {
   "cell_type": "code",
   "execution_count": 22,
   "id": "45f60e12",
   "metadata": {},
   "outputs": [
    {
     "name": "stdout",
     "output_type": "stream",
     "text": [
      "float64\n"
     ]
    },
    {
     "data": {
      "text/plain": [
       "array([1., 2., 3., 4.])"
      ]
     },
     "execution_count": 22,
     "metadata": {},
     "output_type": "execute_result"
    }
   ],
   "source": [
    "# Convert Array to Float Type\n",
    "# Write a NumPy program to convert an array to a floating type.\n",
    "arr = np.array([1,2,3,4])\n",
    "float_arr =  arr.astype(float)\n",
    "print(float_arr.dtype)\n",
    "float_arr"
   ]
  },
  {
   "cell_type": "code",
   "execution_count": 23,
   "id": "515a2605",
   "metadata": {},
   "outputs": [
    {
     "name": "stdout",
     "output_type": "stream",
     "text": [
      "Values in Fahrenheit degrees: [ 32.    53.6  113.38  93.2  211.84]\n",
      "Values in Centigrade degrees: [-17.78 -11.11   7.34   1.11  37.73   0.  ]\n"
     ]
    }
   ],
   "source": [
    "# Celsius to Fahrenheit Conversion\n",
    "# Write a NumPy program to convert Centigrade degrees into Fahrenheit degrees. Centigrade values are stored in a NumPy array.\n",
    "\n",
    "# Sample Array [0, 12, 45.21, 34, 99.91] [-17.78, -11.11, 7.34, 1.11, 37.73, 0. ]\n",
    "\n",
    "# Expected Output:\n",
    "\n",
    "# Values in Fahrenheit degrees: [ 0. 12. 45.21 34. 99.91 32. ]\n",
    "\n",
    "# Values in Centigrade degrees: [-17.78 -11.11 7.34 1.11 37.73 0. ]\n",
    "\n",
    "# Values in Centigrade degrees: [-17.78 -11.11 7.34 1.11 37.73 0. ]\n",
    "\n",
    "# Values in Fahrenheit degrees: [-0. 12. 45.21 34. 99.91 32. ]\n",
    "\n",
    "\n",
    "import numpy as np\n",
    "celsius_values = np.array([0, 12, 45.21, 34, 99.91])\n",
    "fahrenheit_values = np.array([0, 12, 45.21, 34, 99.91, 32])\n",
    "c_to_f= (celsius_values*9/5) + 32\n",
    "f_to_c = (fahrenheit_values-32)*5/9\n",
    "\n",
    "c_to_f = np.round(c_to_f, 2)\n",
    "f_to_c = np.round(f_to_c, 2)\n",
    "\n",
    "\n",
    "\n",
    "print(\"Values in Fahrenheit degrees:\", c_to_f)\n",
    "print(\"Values in Centigrade degrees:\", f_to_c)\n"
   ]
  },
  {
   "cell_type": "code",
   "execution_count": 27,
   "id": "3e13dfb5",
   "metadata": {},
   "outputs": [
    {
     "name": "stdout",
     "output_type": "stream",
     "text": [
      "[10 20 30 40 50 60 70 80 90]\n"
     ]
    }
   ],
   "source": [
    "#  Append Values to Array (Do self-tudy)\n",
    "# Write a NumPy program to append values to the end of an array.\n",
    "\n",
    "# Expected Output:\n",
    "\n",
    "# Original array: [10, 20, 30]\n",
    "\n",
    "# After append values to the end of the array: [10 20 30 40 50 60 70 80 90]\n",
    "\n",
    "\n",
    "import numpy\n",
    "orgarr = np.array([10, 20, 30])\n",
    "orgarr\n",
    "new_arr = np.append(orgarr,[40,50,60,70, 80, 90])\n",
    "print(new_arr)"
   ]
  },
  {
   "cell_type": "code",
   "execution_count": 35,
   "id": "62c2df1c",
   "metadata": {},
   "outputs": [
    {
     "name": "stdout",
     "output_type": "stream",
     "text": [
      "[73 73 62  9 59  9 71 22 49 90]\n",
      "9\n",
      "90\n",
      "51.7\n",
      "27.280212609142183\n"
     ]
    }
   ],
   "source": [
    "#  Array Statistical Functions (Do self-tudy)\n",
    "# Create a random NumPy array of 10 elements and calculate the mean, median, and standard deviation of the array.\n",
    "import numpy as np\\\n",
    "\n",
    "arr1 = np.random.randint(1,100, 10)\n",
    "print(arr1)\n",
    "print(arr1.min())\n",
    "print(arr1.max())\n",
    "print(arr1.mean())\n",
    "print(arr1.std())"
   ]
  },
  {
   "cell_type": "code",
   "execution_count": 40,
   "id": "da4a77c0",
   "metadata": {},
   "outputs": [
    {
     "name": "stdout",
     "output_type": "stream",
     "text": [
      "[[35 13 81 27 92  6 40 60 56 14]\n",
      " [76 33 11 88 80 93 59 40 58 60]\n",
      " [49 82 90 40 85 18 91 54 12 53]\n",
      " [67 47 73 58 29 33 70 27 63 14]\n",
      " [78 71 18 95 97 73 81 95 97 59]\n",
      " [64  3 79 45 35 91 84 34 57 38]\n",
      " [39 90 36  5 31 32 86  8 59 60]\n",
      " [34 38  5 98 58 88  6 26 59  6]\n",
      " [98 73 72 14 41 28 51 75 20 35]\n",
      " [33 84 64 97 44 47 71 66 97 62]]\n",
      "98\n",
      "3\n"
     ]
    }
   ],
   "source": [
    "#  Find min and max\n",
    "# Create a 10x10 array with random values and find the minimum and maximum values.\n",
    "\n",
    "import numpy as np\n",
    "arr2 = np.random.randint(1,100, (10,10))\n",
    "print(arr2)\n",
    "print(arr2.max())\n",
    "print(arr2.min())"
   ]
  },
  {
   "cell_type": "code",
   "execution_count": 44,
   "id": "94b3c66b",
   "metadata": {},
   "outputs": [
    {
     "data": {
      "text/plain": [
       "array([[[ 6, 18, 13],\n",
       "        [ 7, 11, 14],\n",
       "        [11, 14,  6]],\n",
       "\n",
       "       [[ 4,  9,  6],\n",
       "        [17, 10,  3],\n",
       "        [16,  9, 14]],\n",
       "\n",
       "       [[ 6, 15, 13],\n",
       "        [16, 18, 10],\n",
       "        [19, 15, 16]]], dtype=int32)"
      ]
     },
     "execution_count": 44,
     "metadata": {},
     "output_type": "execute_result"
    }
   ],
   "source": [
    "import numpy as np\n",
    "arr3D = np.random.randint(1,20, (3,3,3))\n",
    "\n",
    "arr3D"
   ]
  }
 ],
 "metadata": {
  "kernelspec": {
   "display_name": "Python 3",
   "language": "python",
   "name": "python3"
  },
  "language_info": {
   "codemirror_mode": {
    "name": "ipython",
    "version": 3
   },
   "file_extension": ".py",
   "mimetype": "text/x-python",
   "name": "python",
   "nbconvert_exporter": "python",
   "pygments_lexer": "ipython3",
   "version": "3.13.7"
  }
 },
 "nbformat": 4,
 "nbformat_minor": 5
}
