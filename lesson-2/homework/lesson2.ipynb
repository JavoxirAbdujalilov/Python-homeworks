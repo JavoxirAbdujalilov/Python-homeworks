{
 "cells": [
  {
   "cell_type": "code",
   "execution_count": null,
   "id": "ae29af10",
   "metadata": {},
   "outputs": [
    {
     "name": "stdout",
     "output_type": "stream",
     "text": [
      "Hello, John!. You aare 25 years old\n"
     ]
    }
   ],
   "source": [
    "#Age Calculator\n",
    "#Write a Python program to ask for a user's name and year of birth, then calculate and display their age.\n",
    "from datetime import datetime\n",
    "name = 'John'\n",
    "birth_year = 2000\n",
    "birth_year = int(birth_year)\n",
    "current_year = datetime.now().year\n",
    "age = current_year-birth_year\n",
    "print(f\"Hello, {name}!. You are {age} years old\")"
   ]
  },
  {
   "cell_type": "code",
   "execution_count": 30,
   "id": "939b6084",
   "metadata": {},
   "outputs": [
    {
     "name": "stdout",
     "output_type": "stream",
     "text": [
      "Lasetti\n",
      "Malibu\n"
     ]
    }
   ],
   "source": [
    "# Extract Car Names\n",
    "#Extract car names from the following text:\n",
    "\n",
    "\n",
    "txt = 'LMaasleitbtui'\n",
    "car1 = txt[::2]\n",
    "car2 = txt[1::2]\n",
    "print(car1)\n",
    "print(car2)\n"
   ]
  },
  {
   "cell_type": "code",
   "execution_count": 37,
   "id": "285aa3dc",
   "metadata": {},
   "outputs": [
    {
     "name": "stdout",
     "output_type": "stream",
     "text": [
      "matiz\n",
      "damas\n"
     ]
    }
   ],
   "source": [
    "# Extract Car Names\n",
    "#Extract car names from the following text:\n",
    "txt = 'MsaatmiazD'.lower() \n",
    "car3 = txt[::2]\n",
    "car4 = txt[1::2][::-1]\n",
    "\n",
    "\n",
    "print(car3)\n",
    "print(car4)\n",
    "\n"
   ]
  },
  {
   "cell_type": "code",
   "execution_count": 16,
   "id": "b5c284cf",
   "metadata": {},
   "outputs": [
    {
     "data": {
      "text/plain": [
       "'margorp nohtyP'"
      ]
     },
     "execution_count": 16,
     "metadata": {},
     "output_type": "execute_result"
    }
   ],
   "source": [
    "# Reverse String\n",
    "#Write a Python program that takes a user input string and prints it in reverse order.\n",
    "txt2='Python program'\n",
    "reversed_list=txt2[::-1]\n",
    "reversed_list"
   ]
  },
  {
   "cell_type": "code",
   "execution_count": 22,
   "id": "bc594ff3",
   "metadata": {},
   "outputs": [
    {
     "name": "stdout",
     "output_type": "stream",
     "text": [
      "Number of vowels: 20\n"
     ]
    }
   ],
   "source": [
    "#Count Vowels\n",
    "#Write a Python program that counts the number of vowels in a given string.\n",
    "# Count Vowels\n",
    "# Write a Python program that counts the number of vowels in a given string.\n",
    "\n",
    "txt3 = 'Write a Python program that counts the number of vowels in a given string'\n",
    "vowels = 'aeiuoAEIUO'\n",
    "count = 0\n",
    "\n",
    "for char in txt3:\n",
    "    if char in vowels:\n",
    "        count += 1\n",
    "\n",
    "print(\"Number of vowels:\", count)\n"
   ]
  },
  {
   "cell_type": "code",
   "execution_count": 23,
   "id": "0faeb2e1",
   "metadata": {},
   "outputs": [
    {
     "name": "stdout",
     "output_type": "stream",
     "text": [
      "Maximum value is: 78\n"
     ]
    }
   ],
   "source": [
    "#FinD Maximum Value\n",
    "#Write a Python program that takes a list of numbers as input and prints the maximum value.\n",
    "numbers = [10, 45, 3, 78, 22, 5]\n",
    "maximum = max(numbers)\n",
    "print(\"Maximum value is:\", maximum)\n"
   ]
  },
  {
   "cell_type": "code",
   "execution_count": 44,
   "id": "51e47a35",
   "metadata": {},
   "outputs": [
    {
     "name": "stdout",
     "output_type": "stream",
     "text": [
      "javoxir is not a palindrome\n"
     ]
    }
   ],
   "source": [
    "#Check Palindrome\n",
    "#Write a Python program that checks if a given word is a palindrome (reads the same forward and backward).\n",
    "word = input(\"Enter a word\")\n",
    "reversed_word= word[::-1]\n",
    "if word.lower() == reversed_word:\n",
    "    print(f\"{word} is a palindrome\")\n",
    "else:    \n",
    "    print(f\"{word} is not a palindrome\")"
   ]
  },
  {
   "cell_type": "code",
   "execution_count": 46,
   "id": "3456cce2",
   "metadata": {},
   "outputs": [
    {
     "name": "stdout",
     "output_type": "stream",
     "text": [
      "@gmail.com\n"
     ]
    }
   ],
   "source": [
    "# Extract Email Domain\n",
    "# Write a Python program that extracts and prints the domain from an email address provided by the user.\n",
    "email = input(\"Enter your email\")\n",
    "kuchukcha = email.find(\"@\")\n",
    "domain = email[kuchukcha:]\n",
    "print(domain)"
   ]
  },
  {
   "cell_type": "code",
   "execution_count": 50,
   "id": "985709f2",
   "metadata": {},
   "outputs": [
    {
     "name": "stdout",
     "output_type": "stream",
     "text": [
      "🔐 Your random password is: !]ARA\n"
     ]
    }
   ],
   "source": [
    "#10. Generate Random Password\n",
    "# Write a Python program to generate a random password containing letters, digits, and special characters.\n",
    "import random\n",
    "import string\n",
    "\n",
    "# Define password length\n",
    "length = int(input(\"Enter desired password length: \"))\n",
    "\n",
    "# Combine character sets\n",
    "letters = string.ascii_letters      # a-zA-Z\n",
    "digits = string.digits              # 0-9\n",
    "specials = string.punctuation       # !@#$%^&*()_+ etc.\n",
    "\n",
    "# Full character pool\n",
    "all_chars = letters + digits + specials\n",
    "\n",
    "# Generate password\n",
    "password = ''.join(random.choice(all_chars) for _ in range(length))\n",
    "\n",
    "print(\"🔐 Your random password is:\", password)\n"
   ]
  }
 ],
 "metadata": {
  "kernelspec": {
   "display_name": "Python 3",
   "language": "python",
   "name": "python3"
  },
  "language_info": {
   "codemirror_mode": {
    "name": "ipython",
    "version": 3
   },
   "file_extension": ".py",
   "mimetype": "text/x-python",
   "name": "python",
   "nbconvert_exporter": "python",
   "pygments_lexer": "ipython3",
   "version": "3.13.5"
  }
 },
 "nbformat": 4,
 "nbformat_minor": 5
}
