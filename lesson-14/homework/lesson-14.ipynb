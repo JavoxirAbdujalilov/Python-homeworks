{
 "cells": [
  {
   "cell_type": "code",
   "execution_count": 6,
   "id": "816b4702",
   "metadata": {},
   "outputs": [
    {
     "name": "stdout",
     "output_type": "stream",
     "text": [
      "Name: Alice\n",
      "Age: 20\n",
      "Grade: A\n",
      "Name: Bob\n",
      "Age: 22\n",
      "Grade: B\n",
      "Name: Charlie\n",
      "Age: 21\n",
      "Grade: A\n"
     ]
    }
   ],
   "source": [
    "# Task: JSON Parsing\n",
    "# write a Python script that reads the students.jon JSON file and prints details of each student.\n",
    "import json\n",
    "\n",
    "with open(\"students.json\", 'r') as  file:\n",
    "    data = json.load(file)\n",
    "    \n",
    "for student in data[\"students\"]:\n",
    "     print(f\"Name: {student['name']}\")\n",
    "     print(f\"Age: {student['age']}\")\n",
    "     print(f\"Grade: {student['grade']}\")\n",
    "\n",
    "\n",
    "\n",
    "\n"
   ]
  },
  {
   "cell_type": "code",
   "execution_count": 16,
   "id": "ceafc06a",
   "metadata": {},
   "outputs": [
    {
     "name": "stdout",
     "output_type": "stream",
     "text": [
      "Error: 401 {\"cod\":401, \"message\": \"Invalid API key. Please see https://openweathermap.org/faq#error401 for more info.\"}\n"
     ]
    }
   ],
   "source": [
    "#Task: Weather API\n",
    "# Use this url : https://openweathermap.org/\n",
    "# Use the requests library to fetch weather data for a specific city(ex. your hometown: Tashkent) and print relevant information (temperature, humidity, etc.).\n",
    "\n",
    "import requests\n",
    "\n",
    "API_KEY = \"YOUR_API_KEY\"  # <- replace this with your real API key\n",
    "city = \"Tashkent\"\n",
    "\n",
    "url = f\"https://api.openweathermap.org/data/2.5/weather?q={city}&appid={API_KEY}&units=metric\"\n",
    "\n",
    "response = requests.get(url)\n",
    "\n",
    "if response.status_code == 200:\n",
    "    data = response.json()\n",
    "    print(\"City:\", data[\"name\"])\n",
    "    print(\"Temperature:\", data[\"main\"][\"temp\"], \"°C\")\n",
    "    print(\"Humidity:\", data[\"main\"][\"humidity\"], \"%\")\n",
    "    print(\"Weather:\", data[\"weather\"][0][\"description\"])\n",
    "else:\n",
    "    print(\"Error:\", response.status_code, response.text)\n",
    "\n"
   ]
  },
  {
   "cell_type": "code",
   "execution_count": null,
   "id": "f9c75c93",
   "metadata": {},
   "outputs": [],
   "source": [
    "# Task: JSON Modification\n",
    "# Write a program that allows users to add new books, update existing book information, and delete books from the books.json JSON file.\n",
    "\n",
    "import json\n",
    "with open (\"students.json\", \"r\") as file:\n",
    "    data = json.load(file)\n",
    "\n",
    "new_student = {\"name\": \"Charlie\", \"age\": 21, \"grade\":\"A\"}\n",
    "data[\"students\"].append(new_student)\n",
    "\n",
    "with open (\"students.json\", \"w\") as file:\n",
    "    json.dump(data,file, indent = 4)\n",
    "\n",
    "\n",
    "\n"
   ]
  },
  {
   "cell_type": "code",
   "execution_count": 22,
   "id": "6379c84a",
   "metadata": {},
   "outputs": [
    {
     "name": "stdout",
     "output_type": "stream",
     "text": [
      "Bob's information updated successfully!\n"
     ]
    }
   ],
   "source": [
    "# update existing book information\n",
    "import json\n",
    "import json\n",
    "\n",
    "# Step 1: Load the JSON file\n",
    "with open(\"students.json\", \"r\") as file:\n",
    "    data = json.load(file)\n",
    "\n",
    "# Step 2: Modify the data (update existing information)\n",
    "for student in data[\"students\"]:\n",
    "    if student[\"name\"] == \"Bob\":  # find Bob\n",
    "        student[\"age\"] = 23       # update his age\n",
    "        student[\"grade\"] = \"A+\"   # update his grade\n",
    "\n",
    "# Step 3: Save the updated data back to JSON\n",
    "with open(\"students.json\", \"w\") as file:\n",
    "    json.dump(data, file, indent=4)\n",
    "\n",
    "print(\"Bob's information updated successfully!\")\n"
   ]
  },
  {
   "cell_type": "code",
   "execution_count": 23,
   "id": "2b12c05d",
   "metadata": {},
   "outputs": [
    {
     "name": "stdout",
     "output_type": "stream",
     "text": [
      "Student not found!\n"
     ]
    }
   ],
   "source": [
    "import json\n",
    "\n",
    "# Step 1: Load JSON file\n",
    "with open(\"students.json\", \"r\") as file:\n",
    "    data = json.load(file)\n",
    "\n",
    "# Step 2: Ask which student to delete\n",
    "name_to_delete = input(\"Enter the student name to delete: \")\n",
    "\n",
    "# Step 3: Filter out the student\n",
    "original_count = len(data[\"students\"])\n",
    "data[\"students\"] = [student for student in data[\"students\"] if student[\"name\"].lower() != name_to_delete.lower()]\n",
    "\n",
    "# Step 4: Save updated data back\n",
    "with open(\"students.json\", \"w\") as file:\n",
    "    json.dump(data, file, indent=4)\n",
    "\n",
    "if len(data[\"students\"]) < original_count:\n",
    "    print(f\"Student '{name_to_delete}' deleted successfully!\")\n",
    "else:\n",
    "    print(\"Student not found!\")\n"
   ]
  },
  {
   "cell_type": "code",
   "execution_count": 3,
   "id": "8615388d",
   "metadata": {},
   "outputs": [
    {
     "name": "stdout",
     "output_type": "stream",
     "text": [
      "Error fetching data from OMDb API.\n"
     ]
    }
   ],
   "source": [
    "# Task: Movie Recommendation System\n",
    "# Use this url http://www.omdbapi.com/ to fetch information about movies.\n",
    "# Create a program that asks users for a movie genre and recommends a random movie from that genre.\n",
    "import requests\n",
    "import random\n",
    "\n",
    "API_KEY = \"YOUR_API_KEY_HERE\"  # Replace with your OMDb API key\n",
    "BASE_URL = \"http://www.omdbapi.com/\"\n",
    "\n",
    "# Step 1: Ask user for genre\n",
    "genre = input(\"Enter a movie genre (e.g., action, comedy, drama): \").strip()\n",
    "\n",
    "# Step 2: Make API request\n",
    "params = {\n",
    "    \"apikey\": API_KEY,\n",
    "    \"s\": genre,     # search by genre keyword\n",
    "    \"type\": \"movie\" # only movies\n",
    "}\n",
    "\n",
    "response = requests.get(BASE_URL, params=params)\n",
    "\n",
    "# Step 3: Parse response\n",
    "if response.status_code == 200:\n",
    "    data = response.json()\n",
    "    if \"Search\" in data:\n",
    "        movies = data[\"Search\"]\n",
    "        random_movie = random.choice(movies)\n",
    "        print(\"\\n🎬 Recommended Movie:\")\n",
    "        print(f\"Title: {random_movie['Title']}\")\n",
    "        print(f\"Year: {random_movie['Year']}\")\n",
    "        print(f\"IMDB ID: {random_movie['imdbID']}\")\n",
    "    else:\n",
    "        print(\"No movies found for that genre.\")\n",
    "else:\n",
    "    print(\"Error fetching data from OMDb API.\")\n",
    "\n",
    "\n"
   ]
  },
  {
   "cell_type": "code",
   "execution_count": null,
   "id": "5fd172c8",
   "metadata": {},
   "outputs": [],
   "source": []
  },
  {
   "cell_type": "code",
   "execution_count": null,
   "id": "a9405359",
   "metadata": {},
   "outputs": [],
   "source": []
  },
  {
   "cell_type": "code",
   "execution_count": null,
   "id": "6b267f3f",
   "metadata": {},
   "outputs": [],
   "source": []
  }
 ],
 "metadata": {
  "kernelspec": {
   "display_name": "Python 3",
   "language": "python",
   "name": "python3"
  },
  "language_info": {
   "codemirror_mode": {
    "name": "ipython",
    "version": 3
   },
   "file_extension": ".py",
   "mimetype": "text/x-python",
   "name": "python",
   "nbconvert_exporter": "python",
   "pygments_lexer": "ipython3",
   "version": "3.13.7"
  }
 },
 "nbformat": 4,
 "nbformat_minor": 5
}
