{
 "cells": [
  {
   "cell_type": "code",
   "execution_count": null,
   "id": "92083b36",
   "metadata": {},
   "outputs": [],
   "source": [
    "# Create a new database with a table named Roster that has three fields: Name, Species, and Age. The Name and Species columns should be text fields, and the Age column should be an integer field.\n",
    "\n",
    "import sqlite3\n",
    "with sqlite3.connect(\"Database.db\") as connection:\n",
    "    cursor = connection.cursor()\n",
    "\n",
    "    sql_query = \"create table Roster (Name varchar(50), Species varchar(50), Age int)\"\n",
    "    cursor.execute(sql_query)\n"
   ]
  },
  {
   "cell_type": "code",
   "execution_count": 5,
   "id": "1c91b799",
   "metadata": {},
   "outputs": [
    {
     "data": {
      "text/plain": [
       "<sqlite3.Cursor at 0x13a49883a40>"
      ]
     },
     "execution_count": 5,
     "metadata": {},
     "output_type": "execute_result"
    }
   ],
   "source": [
    "sql_insert = \" insert into Roster values ('Benjamin Sisko', 'Human', 40), ('Jadzia Dax', 'Trill', 300 ), ('Kira Nerys', 'Bajoran', 29)\"\n",
    "cursor.execute(sql_insert)"
   ]
  },
  {
   "cell_type": "code",
   "execution_count": 6,
   "id": "d75d7796",
   "metadata": {},
   "outputs": [
    {
     "data": {
      "text/plain": [
       "<sqlite3.Cursor at 0x13a49883a40>"
      ]
     },
     "execution_count": 6,
     "metadata": {},
     "output_type": "execute_result"
    }
   ],
   "source": [
    "# update \n",
    "sql_update = \"\"\"\n",
    "            update Roster\n",
    "            set name = 'Ezri Dax'\n",
    "            where name = 'Jadzia Dax'\n",
    "\n",
    "\"\"\"\n",
    "cursor.executescript(sql_update)"
   ]
  },
  {
   "cell_type": "code",
   "execution_count": 7,
   "id": "8e591e1c",
   "metadata": {},
   "outputs": [
    {
     "data": {
      "text/plain": [
       "<sqlite3.Cursor at 0x13a49883a40>"
      ]
     },
     "execution_count": 7,
     "metadata": {},
     "output_type": "execute_result"
    }
   ],
   "source": [
    "sql_select = \"\"\"select name, age from roster\n",
    "                where species = \"Bajoran\"\n",
    "\"\"\"\n",
    "cursor.executescript(sql_select)"
   ]
  },
  {
   "cell_type": "code",
   "execution_count": null,
   "id": "e630fafa",
   "metadata": {},
   "outputs": [],
   "source": []
  },
  {
   "cell_type": "code",
   "execution_count": null,
   "id": "a01cb454",
   "metadata": {},
   "outputs": [],
   "source": []
  }
 ],
 "metadata": {
  "kernelspec": {
   "display_name": "Python 3",
   "language": "python",
   "name": "python3"
  },
  "language_info": {
   "codemirror_mode": {
    "name": "ipython",
    "version": 3
   },
   "file_extension": ".py",
   "mimetype": "text/x-python",
   "name": "python",
   "nbconvert_exporter": "python",
   "pygments_lexer": "ipython3",
   "version": "3.13.7"
  }
 },
 "nbformat": 4,
 "nbformat_minor": 5
}
