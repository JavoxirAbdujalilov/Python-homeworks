{
 "cells": [
  {
   "cell_type": "markdown",
   "id": "e8553bce",
   "metadata": {},
   "source": []
  },
  {
   "cell_type": "code",
   "execution_count": null,
   "id": "0513bbae",
   "metadata": {},
   "outputs": [
    {
     "name": "stdout",
     "output_type": "stream",
     "text": [
      "Perimetr=  8 Area=  4\n"
     ]
    }
   ],
   "source": [
    "a=2\n",
    "perimetr = 4*a\n",
    "area = a**2\n",
    "print('Perimetr=', perimetr, 'Area=', area)"
   ]
  },
  {
   "cell_type": "code",
   "execution_count": 10,
   "id": "85742f5f",
   "metadata": {},
   "outputs": [
    {
     "name": "stdout",
     "output_type": "stream",
     "text": [
      "length=  12.57\n"
     ]
    }
   ],
   "source": [
    "#Given diameter of circle. Find its length.\n",
    "import math\n",
    "d=4\n",
    "l=math.pi*d\n",
    "print(f'length= {l: .2f}')\n",
    "\n"
   ]
  },
  {
   "cell_type": "code",
   "execution_count": null,
   "id": "1c1ad4dc",
   "metadata": {},
   "outputs": [
    {
     "name": "stdout",
     "output_type": "stream",
     "text": [
      "mean= 35.0\n"
     ]
    }
   ],
   "source": [
    "#Given two numbers a and b. Find their mean.\n",
    "a=20\n",
    "b=50\n",
    "c=(a+b)/2\n",
    "print('mean=', c)"
   ]
  },
  {
   "cell_type": "code",
   "execution_count": 20,
   "id": "4cad03b2",
   "metadata": {},
   "outputs": [
    {
     "name": "stdout",
     "output_type": "stream",
     "text": [
      "Summ = 35, Product = 250, a² = 100, b² = 625\n"
     ]
    }
   ],
   "source": [
    "#Given two numbers a and b. Find their sum, product and square of each number.\n",
    "a=10\n",
    "b=25\n",
    "summ=a+b\n",
    "product=a*b\n",
    "sqra=a**2\n",
    "sqrb=b**2\n",
    "print(f\"Summ = {summ}, Product = {product}, a² = {sqra}, b² = {sqrb}\")\n"
   ]
  }
 ],
 "metadata": {
  "kernelspec": {
   "display_name": "Python 3",
   "language": "python",
   "name": "python3"
  },
  "language_info": {
   "codemirror_mode": {
    "name": "ipython",
    "version": 3
   },
   "file_extension": ".py",
   "mimetype": "text/x-python",
   "name": "python",
   "nbconvert_exporter": "python",
   "pygments_lexer": "ipython3",
   "version": "3.13.5"
  }
 },
 "nbformat": 4,
 "nbformat_minor": 5
}
