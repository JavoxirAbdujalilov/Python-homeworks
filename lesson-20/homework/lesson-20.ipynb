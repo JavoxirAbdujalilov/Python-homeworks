{
 "cells": [
  {
   "cell_type": "code",
   "execution_count": null,
   "id": "abaaf121",
   "metadata": {},
   "outputs": [],
   "source": [
    "# Homework 1:\n",
    "\n",
    "# Using chinook.db write pandas code.\n",
    "\n",
    "# Customer Purchases Analysis:\n",
    "# Find the total amount spent by each customer on purchases (considering invoices).\n",
    "# Identify the top 5 customers with the highest total purchase amounts.\n",
    "# Display the customer ID, name, and the total amount spent for the top 5 customers.\n",
    "# Album vs. Individual Track Purchases:\n",
    "# Determine the percentage of customers who prefer to buy individual tracks instead of full albums.\n",
    "# A customer is considered to prefer individual tracks if they have purchased only a subset of tracks from an album.\n",
    "# Provide a summary of the percentage of customers who fall into each category (individual tracks vs. full albums).\n",
    "\n"
   ]
  },
  {
   "cell_type": "code",
   "execution_count": null,
   "id": "54f05498",
   "metadata": {},
   "outputs": [
    {
     "data": {
      "text/plain": [
       "['albums',\n",
       " 'sqlite_sequence',\n",
       " 'artists',\n",
       " 'customers',\n",
       " 'employees',\n",
       " 'genres',\n",
       " 'invoices',\n",
       " 'invoice_items',\n",
       " 'media_types',\n",
       " 'playlists',\n",
       " 'playlist_track',\n",
       " 'tracks',\n",
       " 'sqlite_stat1']"
      ]
     },
     "execution_count": 12,
     "metadata": {},
     "output_type": "execute_result"
    }
   ],
   "source": [
    "import pandas as pd\n",
    "import sqlite3\n",
    "connection =  sqlite3.connect(\"chinook.db\")\n",
    "sql_query = \"SELECT name From sqlite_master Where type ='table' \"\n",
    "\n",
    "tables = pd.read_sql_query(sql_query, connection)[\"name\"].tolist()\n",
    "tables\n",
    "\n",
    "\n"
   ]
  },
  {
   "cell_type": "code",
   "execution_count": null,
   "id": "e57ea20e",
   "metadata": {},
   "outputs": [
    {
     "data": {
      "text/html": [
       "<div>\n",
       "<style scoped>\n",
       "    .dataframe tbody tr th:only-of-type {\n",
       "        vertical-align: middle;\n",
       "    }\n",
       "\n",
       "    .dataframe tbody tr th {\n",
       "        vertical-align: top;\n",
       "    }\n",
       "\n",
       "    .dataframe thead th {\n",
       "        text-align: right;\n",
       "    }\n",
       "</style>\n",
       "<table border=\"1\" class=\"dataframe\">\n",
       "  <thead>\n",
       "    <tr style=\"text-align: right;\">\n",
       "      <th></th>\n",
       "      <th>CustomerId</th>\n",
       "      <th>FirstName</th>\n",
       "      <th>total_spend</th>\n",
       "    </tr>\n",
       "  </thead>\n",
       "  <tbody>\n",
       "    <tr>\n",
       "      <th>5</th>\n",
       "      <td>6</td>\n",
       "      <td>Helena</td>\n",
       "      <td>49.62</td>\n",
       "    </tr>\n",
       "    <tr>\n",
       "      <th>25</th>\n",
       "      <td>26</td>\n",
       "      <td>Richard</td>\n",
       "      <td>47.62</td>\n",
       "    </tr>\n",
       "    <tr>\n",
       "      <th>56</th>\n",
       "      <td>57</td>\n",
       "      <td>Luis</td>\n",
       "      <td>46.62</td>\n",
       "    </tr>\n",
       "    <tr>\n",
       "      <th>44</th>\n",
       "      <td>45</td>\n",
       "      <td>Ladislav</td>\n",
       "      <td>45.62</td>\n",
       "    </tr>\n",
       "    <tr>\n",
       "      <th>45</th>\n",
       "      <td>46</td>\n",
       "      <td>Hugh</td>\n",
       "      <td>45.62</td>\n",
       "    </tr>\n",
       "  </tbody>\n",
       "</table>\n",
       "</div>"
      ],
      "text/plain": [
       "    CustomerId FirstName  total_spend\n",
       "5            6    Helena        49.62\n",
       "25          26   Richard        47.62\n",
       "56          57      Luis        46.62\n",
       "44          45  Ladislav        45.62\n",
       "45          46      Hugh        45.62"
      ]
     },
     "execution_count": 36,
     "metadata": {},
     "output_type": "execute_result"
    }
   ],
   "source": [
    "# Customer Purchases Analysis:\n",
    "# Find the total amount spent by each customer on purchases (considering invoices).\n",
    "# Identify the top 5 customers with the highest total purchase amounts.\n",
    "# Display the customer ID, name, and the total amount spent for the top 5 customers.\n",
    "dfs =  {table: pd.read_sql_query(f\"select * from {table}\", connection) for table in tables}\n",
    "dfs[\"customers\"]\n",
    "dfs[\"invoice_items\"]\n",
    "dfs[\"invoices\"]\n",
    "cust_inv = dfs[\"customers\"].merge(dfs[\"invoices\"], on = \"CustomerId\", how = \"inner\")\n",
    "cust_inv_items = cust_inv.merge(dfs[\"invoice_items\"], on = \"InvoiceId\", how = \"inner\")\n",
    "cust_inv_items[\"Spend by Customers\"] = cust_inv_items.UnitPrice*cust_inv_items.Quantity\n",
    "total_spent =  cust_inv_items.groupby([\"CustomerId\", \"FirstName\"]).agg( total_spend = pd.NamedAgg(column=\"Spend by Customers\", aggfunc=\"sum\")).reset_index()\n",
    "top_customers = total_spent.sort_values(\"total_spend\", ascending=False).head()\n",
    "top_customers\n"
   ]
  },
  {
   "cell_type": "code",
   "execution_count": null,
   "id": "65772864",
   "metadata": {},
   "outputs": [
    {
     "name": "stdout",
     "output_type": "stream",
     "text": [
      "64.41% of customers only buy individual tracks.\n"
     ]
    }
   ],
   "source": [
    "# Album vs. Individual Track Purchases:\n",
    "# Determine the percentage of customers who prefer to buy individual tracks instead of full albums.\n",
    "# A customer is considered to prefer individual tracks if they have purchased only a subset of tracks from an album.\n",
    "# Provide a summary of the percentage of customers who fall into each category (individual tracks vs. full albums).\n",
    "# print(dfs[\"tracks\"].columns,\n",
    "# dfs[\"albums\"].columns,\n",
    "# dfs[\"customers\"].columns,\n",
    "# dfs[\"invoice_items\"].columns,\n",
    "# dfs[\"sqlite_sequence\"].columns,\n",
    "# dfs[\"employees\"].columns,\n",
    "# dfs[\"genres\"].columns,\n",
    "# dfs[\"invoices\"].columns,\n",
    "# dfs[\"media_types\"].columns,\n",
    "# dfs[\"playlists\"].columns,\n",
    "# dfs[\"playlist_track\"].columns,\n",
    "# dfs[\"sqlite_stat1\"].columns)\n",
    "invoice_items = dfs[\"invoice_items\"]\n",
    "tracks = dfs[\"tracks\"]\n",
    "customers = dfs[\"customers\"]\n",
    "invoices = dfs[\"invoices\"]\n",
    "\n",
    "items_tracks = invoice_items.merge(tracks, on=\"TrackId\")[[\"InvoiceId\", \"AlbumId\", \"TrackId\"]]\n",
    "\n",
    "album_sizes = tracks.groupby(\"AlbumId\")[\"TrackId\"].count().reset_index().rename(columns={\"TrackId\": \"AlbumTrackCount\"})\n",
    "\n",
    "items_tracks = items_tracks.merge(album_sizes, on=\"AlbumId\")\n",
    "\n",
    "purchased_album_tracks = items_tracks.groupby([\"InvoiceId\", \"AlbumId\"])[\"TrackId\"].count().reset_index().rename(columns={\"TrackId\": \"TracksBought\"})\n",
    "\n",
    "purchased_album_tracks = purchased_album_tracks.merge(album_sizes, on=\"AlbumId\")\n",
    "\n",
    "purchased_album_tracks[\"IsFullAlbum\"] = purchased_album_tracks[\"TracksBought\"] == purchased_album_tracks[\"AlbumTrackCount\"]\n",
    "\n",
    "purchased_album_tracks = purchased_album_tracks.merge(invoices[[\"InvoiceId\", \"CustomerId\"]], on=\"InvoiceId\")\n",
    "\n",
    "customer_purchase_type = purchased_album_tracks.groupby(\"CustomerId\")[\"IsFullAlbum\"].any().reset_index()\n",
    "\n",
    "only_tracks = customer_purchase_type[customer_purchase_type[\"IsFullAlbum\"] == False]\n",
    "\n",
    "percentage_tracks = len(only_tracks) / len(customers) * 100\n",
    "print(f\"{percentage_tracks:.2f}% of customers only buy individual tracks.\")"
   ]
  },
  {
   "cell_type": "code",
   "execution_count": null,
   "id": "e6340d9d",
   "metadata": {},
   "outputs": [
    {
     "name": "stdout",
     "output_type": "stream",
     "text": [
      "preference\n",
      "Individual Tracks    64.40678\n",
      "Full Album           35.59322\n",
      "Name: proportion, dtype: float64\n"
     ]
    }
   ],
   "source": [
    "import pandas as pd\n",
    "\n",
    "# 1. Count how many tracks are in each album\n",
    "album_track_counts = dfs[\"tracks\"].groupby(\"AlbumId\")[\"TrackId\"].nunique().reset_index(name=\"total_tracks\")\n",
    "\n",
    "# 2. Count how many unique tracks each customer bought from each album\n",
    "cust_album_tracks = (\n",
    "    dfs[\"invoice_items\"]\n",
    "    .merge(dfs[\"invoices\"], on=\"InvoiceId\")                   # get CustomerId\n",
    "    .merge(dfs[\"tracks\"][[\"TrackId\", \"AlbumId\"]], on=\"TrackId\")  # get AlbumId\n",
    "    .groupby([\"CustomerId\", \"AlbumId\"])[\"TrackId\"]\n",
    "    .nunique()\n",
    "    .reset_index(name=\"tracks_bought\")\n",
    ")\n",
    "\n",
    "# 3. Compare bought tracks vs total album tracks\n",
    "cust_album_tracks = cust_album_tracks.merge(album_track_counts, on=\"AlbumId\")\n",
    "cust_album_tracks[\"preference\"] = cust_album_tracks.apply(\n",
    "    lambda row: \"Full Album\" if row[\"tracks_bought\"] == row[\"total_tracks\"] else \"Individual Tracks\",\n",
    "    axis=1\n",
    ")\n",
    "\n",
    "# 4. Collapse to customer level:\n",
    "# If a customer ever bought a full album → mark them \"Full Album\", else \"Individual Tracks\"\n",
    "customer_pref = (\n",
    "    cust_album_tracks.groupby(\"CustomerId\")[\"preference\"]\n",
    "    .apply(lambda prefs: \"Full Album\" if \"Full Album\" in prefs.values else \"Individual Tracks\")\n",
    "    .reset_index()\n",
    ")\n",
    "\n",
    "# 5. Calculate percentages\n",
    "summary = customer_pref[\"preference\"].value_counts(normalize=True) * 100\n",
    "print(summary)\n",
    "\n",
    "\n"
   ]
  }
 ],
 "metadata": {
  "kernelspec": {
   "display_name": "Python 3",
   "language": "python",
   "name": "python3"
  },
  "language_info": {
   "codemirror_mode": {
    "name": "ipython",
    "version": 3
   },
   "file_extension": ".py",
   "mimetype": "text/x-python",
   "name": "python",
   "nbconvert_exporter": "python",
   "pygments_lexer": "ipython3",
   "version": "3.13.7"
  }
 },
 "nbformat": 4,
 "nbformat_minor": 5
}
