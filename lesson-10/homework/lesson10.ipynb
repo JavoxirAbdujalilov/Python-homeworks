{
 "cells": [
  {
   "cell_type": "code",
   "execution_count": null,
   "id": "e82ba426",
   "metadata": {},
   "outputs": [],
   "source": [
    "#  ToDo List Application\n",
    "class Task:\n",
    "    def __init__(self, title, description, due_date):\n",
    "        self.title = title\n",
    "        self.description = description\n",
    "        self.due_date = due_date\n",
    "        self.completed = False  # Default: task is incomplete\n",
    "\n",
    "    def mark_complete(self):\n",
    "        \"\"\"Mark the task as complete.\"\"\"\n",
    "        self.completed = True\n",
    "\n",
    "    def __str__(self):\n",
    "        \"\"\"Return a string representation of the task.\"\"\"\n",
    "        status = \"✅ Completed\" if self.completed else \"❌ Incomplete\"\n",
    "        return f\"Title: {self.title}\\nDescription: {self.description}\\nDue Date: {self.due_date}\\nStatus: {status}\"\n"
   ]
  },
  {
   "cell_type": "code",
   "execution_count": 2,
   "id": "002d9ba8",
   "metadata": {},
   "outputs": [],
   "source": [
    "class ToDoList:\n",
    "    def __init__(self):\n",
    "        self.tasks = []  # Store all Task objects here\n",
    "\n",
    "    def add_task(self, task):\n",
    "        \"\"\"Add a Task object to the to-do list.\"\"\"\n",
    "        self.tasks.append(task)\n",
    "\n",
    "    def mark_task_complete(self, task_index):\n",
    "        \"\"\"Mark a specific task as complete using its index.\"\"\"\n",
    "        if 0 <= task_index < len(self.tasks):\n",
    "            self.tasks[task_index].mark_complete()\n",
    "            print(f\"Task '{self.tasks[task_index].title}' marked as complete.\")\n",
    "        else:\n",
    "            print(\"Invalid task index.\")\n",
    "\n",
    "    def list_all_tasks(self):\n",
    "        \"\"\"Display all tasks.\"\"\"\n",
    "        if not self.tasks:\n",
    "            print(\"No tasks in the list.\")\n",
    "        else:\n",
    "            for i, task in enumerate(self.tasks):\n",
    "                print(f\"\\nTask {i}:\")\n",
    "                print(task)\n",
    "\n",
    "    def list_incomplete_tasks(self):\n",
    "        \"\"\"Display only incomplete tasks.\"\"\"\n",
    "        incomplete = [task for task in self.tasks if not task.completed]\n",
    "        if not incomplete:\n",
    "            print(\"All tasks are completed!\")\n",
    "        else:\n",
    "            for i, task in enumerate(incomplete):\n",
    "                print(f\"\\nIncomplete Task {i}:\")\n",
    "                print(task)\n"
   ]
  },
  {
   "cell_type": "code",
   "execution_count": 3,
   "id": "b1810c64",
   "metadata": {},
   "outputs": [
    {
     "name": "stdout",
     "output_type": "stream",
     "text": [
      "\n",
      "--- ToDo List Menu ---\n",
      "1. Add Task\n",
      "2. Mark Task as Complete\n",
      "3. List All Tasks\n",
      "4. List Incomplete Tasks\n",
      "5. Exit\n"
     ]
    },
    {
     "ename": "NameError",
     "evalue": "name 'Task' is not defined",
     "output_type": "error",
     "traceback": [
      "\u001b[31m---------------------------------------------------------------------------\u001b[39m",
      "\u001b[31mNameError\u001b[39m                                 Traceback (most recent call last)",
      "\u001b[36mCell\u001b[39m\u001b[36m \u001b[39m\u001b[32mIn[3]\u001b[39m\u001b[32m, line 18\u001b[39m\n\u001b[32m     16\u001b[39m description = \u001b[38;5;28minput\u001b[39m(\u001b[33m\"\u001b[39m\u001b[33mEnter task description: \u001b[39m\u001b[33m\"\u001b[39m)\n\u001b[32m     17\u001b[39m due_date = \u001b[38;5;28minput\u001b[39m(\u001b[33m\"\u001b[39m\u001b[33mEnter due date (YYYY-MM-DD): \u001b[39m\u001b[33m\"\u001b[39m)\n\u001b[32m---> \u001b[39m\u001b[32m18\u001b[39m task = \u001b[43mTask\u001b[49m(title, description, due_date)\n\u001b[32m     19\u001b[39m todo_list.add_task(task)\n\u001b[32m     20\u001b[39m \u001b[38;5;28mprint\u001b[39m(\u001b[33m\"\u001b[39m\u001b[33mTask added successfully!\u001b[39m\u001b[33m\"\u001b[39m)\n",
      "\u001b[31mNameError\u001b[39m: name 'Task' is not defined"
     ]
    }
   ],
   "source": [
    "if __name__ == \"__main__\":\n",
    "    todo_list = ToDoList()\n",
    "\n",
    "    while True:\n",
    "        print(\"\\n--- ToDo List Menu ---\")\n",
    "        print(\"1. Add Task\")\n",
    "        print(\"2. Mark Task as Complete\")\n",
    "        print(\"3. List All Tasks\")\n",
    "        print(\"4. List Incomplete Tasks\")\n",
    "        print(\"5. Exit\")\n",
    "\n",
    "        choice = input(\"Enter your choice (1-5): \")\n",
    "\n",
    "        if choice == \"1\":\n",
    "            title = input(\"Enter task title: \")\n",
    "            description = input(\"Enter task description: \")\n",
    "            due_date = input(\"Enter due date (YYYY-MM-DD): \")\n",
    "            task = Task(title, description, due_date)\n",
    "            todo_list.add_task(task)\n",
    "            print(\"Task added successfully!\")\n",
    "\n",
    "        elif choice == \"2\":\n",
    "            todo_list.list_all_tasks()\n",
    "            index = int(input(\"Enter task index to mark complete: \"))\n",
    "            todo_list.mark_task_complete(index)\n",
    "\n",
    "        elif choice == \"3\":\n",
    "            todo_list.list_all_tasks()\n",
    "\n",
    "        elif choice == \"4\":\n",
    "            todo_list.list_incomplete_tasks()\n",
    "\n",
    "        elif choice == \"5\":\n",
    "            print(\"Exiting ToDo List. Goodbye!\")\n",
    "            break\n",
    "\n",
    "        else:\n",
    "            print(\"Invalid choice. Please try again.\")\n"
   ]
  },
  {
   "cell_type": "code",
   "execution_count": null,
   "id": "63cb536c",
   "metadata": {},
   "outputs": [
    {
     "data": {
      "text/plain": [
       "81"
      ]
     },
     "execution_count": 5,
     "metadata": {},
     "output_type": "execute_result"
    }
   ],
   "source": [
    "--- ToDo List Menu ---\n",
    "1. Add Task\n",
    "2. Mark Task as Complete\n",
    "3. List All Tasks\n",
    "4. List Incomplete Tasks\n",
    "5. Exit\n",
    "Enter your choice (1-5): 1\n",
    "Enter task title: Finish Python Project\n",
    "Enter task description: Complete the ToDo List CLI\n",
    "Enter due date (YYYY-MM-DD): 2025-08-15\n",
    "Task added successfully!\n",
    "\n",
    "--- ToDo List Menu ---\n",
    "1. Add Task\n",
    "2. Mark Task as Complete\n",
    "3. List All Tasks\n",
    "4. List Incomplete Tasks\n",
    "5. Exit\n",
    "Enter your choice (1-5): 1\n",
    "Enter task title: Buy Groceries\n",
    "Enter task description: Milk, Bread, Eggs\n",
    "Enter due date (YYYY-MM-DD): 2025-08-12\n",
    "Task added successfully!\n",
    "\n",
    "--- ToDo List Menu ---\n",
    "1. Add Task\n",
    "2. Mark Task as Complete\n",
    "3. List All Tasks\n",
    "4. List Incomplete Tasks\n",
    "5. Exit\n",
    "Enter your choice (1-5): 3\n",
    "0. Finish Python Project - Due: 2025-08-15 - Status: Incomplete\n",
    "1. Buy Groceries - Due: 2025-08-12 - Status: Incomplete\n",
    "\n",
    "--- ToDo List Menu ---\n",
    "1. Add Task\n",
    "2. Mark Task as Complete\n",
    "3. List All Tasks\n",
    "4. List Incomplete Tasks\n",
    "5. Exit\n",
    "Enter your choice (1-5): 2\n",
    "0. Finish Python Project - Due: 2025-08-15 - Status: Incomplete\n",
    "1. Buy Groceries - Due: 2025-08-12 - Status: Incomplete\n",
    "Enter task index to mark complete: 0\n",
    "Task 'Finish Python Project' marked as complete.\n",
    "\n",
    "--- ToDo List Menu ---\n",
    "1. Add Task\n",
    "2. Mark Task as Complete\n",
    "3. List All Tasks\n",
    "4. List Incomplete Tasks\n",
    "5. Exit\n",
    "Enter your choice (1-5): 4\n",
    "1. Buy Groceries - Due: 2025-08-12 - Status: Incomplete\n"
   ]
  },
  {
   "cell_type": "code",
   "execution_count": null,
   "id": "99b42654",
   "metadata": {},
   "outputs": [],
   "source": [
    "import json\n",
    "\n",
    "class Task:\n",
    "    def __init__(self, title, description, due_date, status=\"Incomplete\"):\n",
    "        self.title = title\n",
    "        self.description = description\n",
    "        self.due_date = due_date\n",
    "        self.status = status\n",
    "\n",
    "    def mark_complete(self):\n",
    "        self.status = \"Complete\"\n",
    "\n",
    "    def to_dict(self):\n",
    "        return {\n",
    "            \"title\": self.title,\n",
    "            \"description\": self.description,\n",
    "            \"due_date\": self.due_date,\n",
    "            \"status\": self.status\n",
    "        }\n",
    "\n",
    "    @staticmethod\n",
    "    def from_dict(data):\n",
    "        return Task(data[\"title\"], data[\"description\"], data[\"due_date\"], data[\"status\"])\n",
    "\n",
    "\n",
    "class ToDoList:\n",
    "    def __init__(self, filename=\"tasks.json\"):\n",
    "        self.tasks = []\n",
    "        self.filename = filename\n",
    "        self.load_tasks()\n",
    "\n",
    "    def add_task(self, task):\n",
    "        self.tasks.append(task)\n",
    "        self.save_tasks()\n",
    "\n",
    "    def mark_task_complete(self, index):\n",
    "        if 0 <= index < len(self.tasks):\n",
    "            self.tasks[index].mark_complete()\n",
    "            self.save_tasks()\n",
    "\n",
    "    def list_tasks(self):\n",
    "        return self.tasks\n",
    "\n",
    "    def list_incomplete_tasks(self):\n",
    "        return [task for task in self.tasks if task.status == \"Incomplete\"]\n",
    "\n",
    "    def save_tasks(self):\n",
    "        with open(self.filename, \"w\") as f:\n",
    "            json.dump([task.to_dict() for task in self.tasks], f)\n",
    "\n",
    "    def load_tasks(self):\n",
    "        try:\n",
    "            with open(self.filename, \"r\") as f:\n",
    "                tasks_data = json.load(f)\n",
    "                self.tasks = [Task.from_dict(data) for data in tasks_data]\n",
    "        except FileNotFoundError:\n",
    "            self.tasks = []\n"
   ]
  },
  {
   "cell_type": "code",
   "execution_count": null,
   "id": "202ebcce",
   "metadata": {},
   "outputs": [],
   "source": [
    "def main():\n",
    "    todo_list = ToDoList()\n",
    "\n",
    "    while True:\n",
    "        print(\"\\n--- ToDo List Menu ---\")\n",
    "        print(\"1. Add Task\")\n",
    "        print(\"2. Mark Task as Complete\")\n",
    "        print(\"3. List All Tasks\")\n",
    "        print(\"4. List Incomplete Tasks\")\n",
    "        print(\"5. Exit\")\n",
    "\n",
    "        choice = input(\"Enter your choice (1-5): \")\n",
    "\n",
    "        if choice == \"1\":\n",
    "            title = input(\"Enter task title: \")\n",
    "            description = input(\"Enter task description: \")\n",
    "            due_date = input(\"Enter due date (YYYY-MM-DD): \")\n",
    "            task = Task(title, description, due_date)\n",
    "            todo_list.add_task(task)\n",
    "            print(\"Task added successfully!\")\n",
    "\n",
    "        elif choice == \"2\":\n",
    "            for i, task in enumerate(todo_list.list_tasks()):\n",
    "                print(f\"{i}. {task.title} - Due: {task.due_date} - Status: {task.status}\")\n",
    "            index = int(input(\"Enter task index to mark complete: \"))\n",
    "            todo_list.mark_task_complete(index)\n",
    "            print(\"Task marked as complete.\")\n",
    "\n",
    "        elif choice == \"3\":\n",
    "            for i, task in enumerate(todo_list.list_tasks()):\n",
    "                print(f\"{i}. {task.title} - Due: {task.due_date} - Status: {task.status}\")\n",
    "\n",
    "        elif choice == \"4\":\n",
    "            for task in todo_list.list_incomplete_tasks():\n",
    "                print(f\"{task.title} - Due: {task.due_date} - Status: {task.status}\")\n",
    "\n",
    "        elif choice == \"5\":\n",
    "            print(\"Goodbye!\")\n",
    "            break\n",
    "        else:\n",
    "            print(\"Invalid choice, please try again.\")\n",
    "\n",
    "if __name__ == \"__main__\":\n",
    "    main()\n"
   ]
  },
  {
   "cell_type": "code",
   "execution_count": null,
   "id": "510c96b1",
   "metadata": {},
   "outputs": [],
   "source": []
  },
  {
   "cell_type": "code",
   "execution_count": null,
   "id": "c09e0220",
   "metadata": {},
   "outputs": [],
   "source": []
  },
  {
   "cell_type": "code",
   "execution_count": null,
   "id": "3f216ee4",
   "metadata": {},
   "outputs": [
    {
     "name": "stdout",
     "output_type": "stream",
     "text": [
      "the ball doesn`t bowl\n"
     ]
    }
   ],
   "source": []
  },
  {
   "cell_type": "code",
   "execution_count": null,
   "id": "c04060ae",
   "metadata": {},
   "outputs": [],
   "source": []
  },
  {
   "cell_type": "code",
   "execution_count": null,
   "id": "8be7f966",
   "metadata": {},
   "outputs": [
    {
     "data": {
      "text/plain": [
       "'utgan kunlar'"
      ]
     },
     "execution_count": 26,
     "metadata": {},
     "output_type": "execute_result"
    }
   ],
   "source": []
  },
  {
   "cell_type": "code",
   "execution_count": null,
   "id": "9d2f5d4d",
   "metadata": {},
   "outputs": [],
   "source": []
  },
  {
   "cell_type": "code",
   "execution_count": null,
   "id": "7ba83049",
   "metadata": {},
   "outputs": [],
   "source": []
  },
  {
   "cell_type": "code",
   "execution_count": null,
   "id": "2609cd01",
   "metadata": {},
   "outputs": [
    {
     "name": "stdout",
     "output_type": "stream",
     "text": [
      "Hello my name is John and i am 25 years old\n"
     ]
    }
   ],
   "source": []
  },
  {
   "cell_type": "code",
   "execution_count": null,
   "id": "ccae7ec1",
   "metadata": {},
   "outputs": [
    {
     "name": "stdout",
     "output_type": "stream",
     "text": [
      "Hello my name is Sara and i am 20 years old\n",
      "Hello my name is Sara and i am 20 years old\n"
     ]
    }
   ],
   "source": []
  }
 ],
 "metadata": {
  "kernelspec": {
   "display_name": "Python 3",
   "language": "python",
   "name": "python3"
  },
  "language_info": {
   "codemirror_mode": {
    "name": "ipython",
    "version": 3
   },
   "file_extension": ".py",
   "mimetype": "text/x-python",
   "name": "python",
   "nbconvert_exporter": "python",
   "pygments_lexer": "ipython3",
   "version": "3.13.5"
  }
 },
 "nbformat": 4,
 "nbformat_minor": 5
}
