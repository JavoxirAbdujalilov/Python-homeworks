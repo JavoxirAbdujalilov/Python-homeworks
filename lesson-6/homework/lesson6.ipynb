{
 "cells": [
  {
   "cell_type": "code",
   "execution_count": 4,
   "id": "56be2a4c",
   "metadata": {},
   "outputs": [
    {
     "name": "stdout",
     "output_type": "stream",
     "text": [
      "hel_lo\n",
      "ass_alom\n",
      "alp_hab_et\n"
     ]
    }
   ],
   "source": [
    "#Given a string txt, insert an underscore (_) after every third character. If a character is a vowel or already has an underscore after it, shift the underscore placement to the next character. No underscore should be added at the end.\n",
    "def insert_underscore(txt):\n",
    "    vowels = \"aeiouAEIOU\"\n",
    "    result = \"\"\n",
    "    i = 0\n",
    "    while i < len(txt):\n",
    "        chunk = txt[i:i+3]  # Get next 3 characters\n",
    "        result += chunk\n",
    "        i += 3\n",
    "        # Check if we can add underscore and not at the end\n",
    "        if i < len(txt):\n",
    "            # Last char of the chunk\n",
    "            if chunk and (chunk[-1] in vowels or (i < len(txt) and txt[i] == \"_\")):\n",
    "                # Postpone underscore to next character\n",
    "                result += txt[i]\n",
    "                result += \"_\"\n",
    "                i += 1  # We consumed one more char\n",
    "            else:\n",
    "                result += \"_\"\n",
    "    return result.rstrip(\"_\")  # Ensure no underscore at end\n",
    "\n",
    "# 🔹 Test cases\n",
    "print(insert_underscore(\"hello\"))     # hel_lo\n",
    "print(insert_underscore(\"assalom\"))   # ass_alom\n",
    "print(insert_underscore(\"alphabet\"))  # alp_hab_et\n",
    "\n",
    "\n",
    "\n",
    "\n"
   ]
  },
  {
   "cell_type": "code",
   "execution_count": 13,
   "id": "38384d7a",
   "metadata": {},
   "outputs": [
    {
     "name": "stdout",
     "output_type": "stream",
     "text": [
      "it is not corresponding\n"
     ]
    }
   ],
   "source": [
    "#  Integer Squares Exercise\n",
    "#Task\n",
    "#The provided code stub reads an integer, n, from STDIN. For all non-negative integers i where 0 <= i < n, print i^2.\n",
    "n=31\n",
    "if n>=1 and n<=20:\n",
    "    for i in range(0,n):\n",
    "        print(i**2)\n",
    "else: \n",
    "    print(\"it is not corresponding\")\n",
    "\n",
    "\n",
    "\n"
   ]
  },
  {
   "cell_type": "code",
   "execution_count": null,
   "id": "abeae671",
   "metadata": {},
   "outputs": [
    {
     "name": "stdout",
     "output_type": "stream",
     "text": [
      "1\n",
      "2\n",
      "3\n",
      "4\n",
      "5\n",
      "6\n",
      "7\n",
      "8\n",
      "9\n",
      "10\n"
     ]
    }
   ],
   "source": [
    "  #Loop-Based Exercises\n",
    "#Exercise 1: Print first 10 natural numbers using a while loop\n",
    "#Exercise 2: Print the following pattern\n",
    "# 1\n",
    "# 1 2\n",
    "# 1 2 3\n",
    "# 1 2 3 4\n",
    "# 1 2 3 4 5\n",
    "i = 1\n",
    "while i <= 10:\n",
    "    print(i)\n",
    "    i += 1\n",
    " \n",
    " \n",
    "\n"
   ]
  },
  {
   "cell_type": "code",
   "execution_count": 40,
   "id": "5b196213",
   "metadata": {},
   "outputs": [
    {
     "name": "stdout",
     "output_type": "stream",
     "text": [
      "1 \n",
      "1 2 \n",
      "1 2 3 \n",
      "1 2 3 4 \n",
      "1 2 3 4 5 \n"
     ]
    }
   ],
   "source": [
    "row = 1 \n",
    "while row <= 5: \n",
    "   col = 1 \n",
    "   while col <= row:\n",
    "      print(col, end=\" \")\n",
    "      col +=1\n",
    "   print()\n",
    "   row += 1"
   ]
  },
  {
   "cell_type": "code",
   "execution_count": 54,
   "id": "291e8ff4",
   "metadata": {},
   "outputs": [
    {
     "name": "stdout",
     "output_type": "stream",
     "text": [
      "55\n"
     ]
    }
   ],
   "source": [
    "# Calculate sum of all numbers from 1 to a given number\n",
    "n =  int (input(\"number\"))\n",
    "total = 0\n",
    "i = 1\n",
    "while i <= n:\n",
    "    total += i\n",
    "    i +=1\n",
    "print(total)\n",
    "\n",
    "    \n"
   ]
  },
  {
   "cell_type": "code",
   "execution_count": 55,
   "id": "b84b0c5a",
   "metadata": {},
   "outputs": [
    {
     "name": "stdout",
     "output_type": "stream",
     "text": [
      "75\n",
      "150\n",
      "145\n"
     ]
    }
   ],
   "source": [
    "#Display numbers from a list using a loop\n",
    "# numbers = [12, 75, 150, 180, 145, 525, 50]\n",
    "numbers = [12, 75, 150, 180, 145, 525, 50]\n",
    "\n",
    "for num in numbers:\n",
    "    if num > 500:\n",
    "        break       # Stop the loop if number is greater than 500\n",
    "    if num > 150:\n",
    "        continue    # Skip numbers greater than 150\n",
    "    if num == 12:\n",
    "        continue    # Skip 12\n",
    "    print(num)\n"
   ]
  },
  {
   "cell_type": "code",
   "execution_count": 56,
   "id": "418848e8",
   "metadata": {},
   "outputs": [
    {
     "name": "stdout",
     "output_type": "stream",
     "text": [
      "5\n"
     ]
    }
   ],
   "source": [
    "#Exercise 6: Count the total number of digits in a number\n",
    "#Example:\n",
    "\n",
    "# 75869\n",
    "#Output: 5\n",
    "i = 75869\n",
    "print(len(str(i)))"
   ]
  },
  {
   "cell_type": "code",
   "execution_count": 60,
   "id": "904758ff",
   "metadata": {},
   "outputs": [
    {
     "name": "stdout",
     "output_type": "stream",
     "text": [
      "5 4 3 2 1 \n",
      "4 3 2 1 \n",
      "3 2 1 \n",
      "2 1 \n",
      "1 \n"
     ]
    }
   ],
   "source": [
    "# Print reverse number pattern\n",
    "# 5 4 3 2 1\n",
    "# 4 3 2 1\n",
    "# 3 2 1\n",
    "# 2 1\n",
    "# 1\n",
    "row = 5\n",
    "while  row > 0:\n",
    "    col = row\n",
    "    while  col > 0:\n",
    "        print (col, end =\" \")\n",
    "        col-=1\n",
    "    print()\n",
    "    row -= 1 \n",
    " "
   ]
  },
  {
   "cell_type": "code",
   "execution_count": 79,
   "id": "62b93cf5",
   "metadata": {},
   "outputs": [
    {
     "name": "stdout",
     "output_type": "stream",
     "text": [
      "50\n",
      "40\n",
      "30\n",
      "20\n",
      "10\n"
     ]
    }
   ],
   "source": [
    "# Print list in reverse order using a loop\n",
    "list1 = [10, 20, 30, 40, 50]\n",
    "# 50\n",
    "# 40\n",
    "# 30\n",
    "# 20\n",
    "# 10\n",
    "for i in range(len(list1)-1, -1, -1):\n",
    "    print(list1[i])\n"
   ]
  },
  {
   "cell_type": "code",
   "execution_count": 81,
   "id": "6ee11a60",
   "metadata": {},
   "outputs": [
    {
     "name": "stdout",
     "output_type": "stream",
     "text": [
      "-10\n",
      "-9\n",
      "-8\n",
      "-7\n",
      "-6\n",
      "-5\n",
      "-4\n",
      "-3\n",
      "-2\n",
      "-1\n"
     ]
    }
   ],
   "source": [
    "#Display numbers from -10 to -1 using a for loop\n",
    "i = -10 \n",
    "while i<=-1:\n",
    "    print (i)\n",
    "    i += 1"
   ]
  },
  {
   "cell_type": "code",
   "execution_count": null,
   "id": "f915b475",
   "metadata": {},
   "outputs": [
    {
     "name": "stdout",
     "output_type": "stream",
     "text": [
      "0\n",
      "1\n",
      "2\n",
      "3\n",
      "4\n",
      "done!\n"
     ]
    }
   ],
   "source": [
    "#Display message “Done” after successful loop execution\n",
    "for i in range(5):\n",
    "    print(i)\n",
    "print('Done!')\n"
   ]
  },
  {
   "cell_type": "code",
   "execution_count": 96,
   "id": "9eb663c3",
   "metadata": {},
   "outputs": [
    {
     "name": "stdout",
     "output_type": "stream",
     "text": [
      "Prime numbers between 25 and 50\n",
      "29\n",
      "31\n",
      "37\n",
      "41\n",
      "43\n",
      "47\n"
     ]
    }
   ],
   "source": [
    "#Print all prime numbers within a range Prime numbers between 25 and 50:\n",
    "start = 25\n",
    "end = 50\n",
    "print(\"Prime numbers between\", start, 'and', end)\n",
    "\n",
    "for num in range(start, end + 1):\n",
    "    if num > 1:\n",
    "        for i in range(2, int(num ** 0.5) + 1):\n",
    "            if num % i == 0:\n",
    "                break\n",
    "        else:\n",
    "            print(num)\n",
    "\n",
    "   \n"
   ]
  },
  {
   "cell_type": "code",
   "execution_count": 107,
   "id": "38f13420",
   "metadata": {},
   "outputs": [
    {
     "name": "stdout",
     "output_type": "stream",
     "text": [
      "0 1 1 2 3 5 8 13 21 34 "
     ]
    }
   ],
   "source": [
    "# Display Fibonacci series up to 10 terms\n",
    "# Fibonacci sequence:\n",
    "# 0  1  1  2  3  5  8  13  21  34\n",
    "\n",
    "num_terms = 10\n",
    "n1 = 0\n",
    "n2 = 1\n",
    "count = 0\n",
    "\n",
    "while count < num_terms:\n",
    "    print(n1, end=\" \")\n",
    "    nth = n1 + n2\n",
    "    n1 = n2\n",
    "    n2 = nth\n",
    "    count += 1\n"
   ]
  },
  {
   "cell_type": "code",
   "execution_count": 108,
   "id": "162a4518",
   "metadata": {},
   "outputs": [
    {
     "name": "stdout",
     "output_type": "stream",
     "text": [
      "Factorial of 5 is 120\n"
     ]
    }
   ],
   "source": [
    " #Find the factorial of a given number\n",
    "x = int(input(\"Enter a number: \"))\n",
    "factorial = 1\n",
    "n = 1\n",
    "\n",
    "while n <= x:\n",
    "    factorial *= n  # Multiply factorial by current n\n",
    "    n += 1\n",
    "\n",
    "print(\"Factorial of\", x, \"is\", factorial)\n",
    "\n"
   ]
  },
  {
   "cell_type": "code",
   "execution_count": 112,
   "id": "4c649da8",
   "metadata": {},
   "outputs": [
    {
     "name": "stdout",
     "output_type": "stream",
     "text": [
      "[1, 1, 3, 4]\n"
     ]
    }
   ],
   "source": [
    "def get_uncommon_elements(list1, list2):\n",
    "    # Make copies so we don't change original lists\n",
    "    list1 = [1, 1, 2] \n",
    "    list2 = [2, 3, 4]\n",
    "    l1 = list1[:]\n",
    "    l2 = list2[:]\n",
    "\n",
    "    # Remove common elements one by one (respecting duplicates)\n",
    "    for elem in list1:\n",
    "        if elem in l2:\n",
    "            l1.remove(elem)\n",
    "            l2.remove(elem)\n",
    "\n",
    "    return l1 + l2\n",
    "print(get_uncommon_elements([1, 1, 2], [2, 3, 4])) "
   ]
  },
  {
   "cell_type": "code",
   "execution_count": null,
   "id": "c6056eb4",
   "metadata": {},
   "outputs": [],
   "source": []
  }
 ],
 "metadata": {
  "kernelspec": {
   "display_name": "Python 3",
   "language": "python",
   "name": "python3"
  },
  "language_info": {
   "codemirror_mode": {
    "name": "ipython",
    "version": 3
   },
   "file_extension": ".py",
   "mimetype": "text/x-python",
   "name": "python",
   "nbconvert_exporter": "python",
   "pygments_lexer": "ipython3",
   "version": "3.13.5"
  }
 },
 "nbformat": 4,
 "nbformat_minor": 5
}
