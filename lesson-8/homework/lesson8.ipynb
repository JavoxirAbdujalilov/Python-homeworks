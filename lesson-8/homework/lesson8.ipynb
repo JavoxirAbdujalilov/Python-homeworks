{
 "cells": [
  {
   "cell_type": "code",
   "execution_count": 4,
   "id": "35ad64b9",
   "metadata": {},
   "outputs": [
    {
     "name": "stdout",
     "output_type": "stream",
     "text": [
      "This is a ZeroDivisionError: you cannot divide by zero.\n"
     ]
    }
   ],
   "source": [
    "#Write a  Python program to handle a ZeroDivisionError exception when dividing a number by zero.\n",
    "try:\n",
    "    print(5 / 0)\n",
    "except ZeroDivisionError:\n",
    "    print(\"This is a ZeroDivisionError: you cannot divide by zero.\") "
   ]
  },
  {
   "cell_type": "code",
   "execution_count": 8,
   "id": "3a576295",
   "metadata": {},
   "outputs": [
    {
     "name": "stdout",
     "output_type": "stream",
     "text": [
      "You entered: 12\n"
     ]
    }
   ],
   "source": [
    "# Handle ValueError when converting input to an integer\n",
    "try:\n",
    "    number = int(input(\"Enter a number: \"))\n",
    "    print(\"You entered:\", number)\n",
    "except ValueError:\n",
    "    print(\"Invalid input! Please enter a number.\")\n",
    "\n",
    "\n",
    "\n",
    "\n"
   ]
  },
  {
   "cell_type": "code",
   "execution_count": 12,
   "id": "daa0225d",
   "metadata": {},
   "outputs": [
    {
     "name": "stdout",
     "output_type": "stream",
     "text": [
      "file is not founded \n"
     ]
    }
   ],
   "source": [
    "#Write a Python program that opens a file and handles a FileNotFoundError exception if the file does not exist.\n",
    "try:\n",
    "    open(\"sample.txt\")\n",
    "except FileNotFoundError:\n",
    "    print(\"file is not founded \")"
   ]
  },
  {
   "cell_type": "code",
   "execution_count": 13,
   "id": "345c63c1",
   "metadata": {},
   "outputs": [
    {
     "ename": "TypeError",
     "evalue": "Inputs must be numerical!",
     "output_type": "error",
     "traceback": [
      "\u001b[31m---------------------------------------------------------------------------\u001b[39m",
      "\u001b[31mValueError\u001b[39m                                Traceback (most recent call last)",
      "\u001b[36mCell\u001b[39m\u001b[36m \u001b[39m\u001b[32mIn[13]\u001b[39m\u001b[32m, line 8\u001b[39m\n\u001b[32m      7\u001b[39m \u001b[38;5;66;03m# Convert to float to ensure they are numbers\u001b[39;00m\n\u001b[32m----> \u001b[39m\u001b[32m8\u001b[39m a = \u001b[38;5;28;43mfloat\u001b[39;49m\u001b[43m(\u001b[49m\u001b[43ma\u001b[49m\u001b[43m)\u001b[49m\n\u001b[32m      9\u001b[39m b = \u001b[38;5;28mfloat\u001b[39m(b)\n",
      "\u001b[31mValueError\u001b[39m: could not convert string to float: 'ejwhk'",
      "\nDuring handling of the above exception, another exception occurred:\n",
      "\u001b[31mTypeError\u001b[39m                                 Traceback (most recent call last)",
      "\u001b[36mCell\u001b[39m\u001b[36m \u001b[39m\u001b[32mIn[13]\u001b[39m\u001b[32m, line 16\u001b[39m\n\u001b[32m     12\u001b[39m     \u001b[38;5;28mprint\u001b[39m(\u001b[33m\"\u001b[39m\u001b[33mSum:\u001b[39m\u001b[33m\"\u001b[39m, result)\n\u001b[32m     14\u001b[39m \u001b[38;5;28;01mexcept\u001b[39;00m \u001b[38;5;167;01mValueError\u001b[39;00m:\n\u001b[32m     15\u001b[39m     \u001b[38;5;66;03m# ValueError occurs if conversion to float fails\u001b[39;00m\n\u001b[32m---> \u001b[39m\u001b[32m16\u001b[39m     \u001b[38;5;28;01mraise\u001b[39;00m \u001b[38;5;167;01mTypeError\u001b[39;00m(\u001b[33m\"\u001b[39m\u001b[33mInputs must be numerical!\u001b[39m\u001b[33m\"\u001b[39m)\n",
      "\u001b[31mTypeError\u001b[39m: Inputs must be numerical!"
     ]
    }
   ],
   "source": [
    "#Write a Python program that prompts the user to input two numbers and raises a TypeError exception if the inputs are not numerical.\n",
    "\n",
    "try:\n",
    "    a = input(\"Enter first number: \")\n",
    "    b = input(\"Enter second number: \")\n",
    "\n",
    "    # Convert to float to ensure they are numbers\n",
    "    a = float(a)\n",
    "    b = float(b)\n",
    "\n",
    "    result = a + b\n",
    "    print(\"Sum:\", result)\n",
    "\n",
    "except ValueError:\n",
    "    # ValueError occurs if conversion to float fails\n",
    "    raise TypeError(\"Inputs must be numerical!\")\n"
   ]
  },
  {
   "cell_type": "code",
   "execution_count": 14,
   "id": "244d39fc",
   "metadata": {},
   "outputs": [
    {
     "ename": "FileNotFoundError",
     "evalue": "[Errno 2] No such file or directory: '/root/secret.txt'",
     "output_type": "error",
     "traceback": [
      "\u001b[31m---------------------------------------------------------------------------\u001b[39m",
      "\u001b[31mFileNotFoundError\u001b[39m                         Traceback (most recent call last)",
      "\u001b[36mCell\u001b[39m\u001b[36m \u001b[39m\u001b[32mIn[14]\u001b[39m\u001b[32m, line 7\u001b[39m\n\u001b[32m      4\u001b[39m         file.write(\u001b[33m\"\u001b[39m\u001b[33mHello, World!\u001b[39m\u001b[33m\"\u001b[39m)  \u001b[38;5;66;03m# Writing should be fine\u001b[39;00m\n\u001b[32m      6\u001b[39m     \u001b[38;5;66;03m# Now try opening in read mode from a restricted path (simulate permission issue)\u001b[39;00m\n\u001b[32m----> \u001b[39m\u001b[32m7\u001b[39m     \u001b[38;5;28;01mwith\u001b[39;00m \u001b[38;5;28;43mopen\u001b[39;49m\u001b[43m(\u001b[49m\u001b[33;43m\"\u001b[39;49m\u001b[33;43m/root/secret.txt\u001b[39;49m\u001b[33;43m\"\u001b[39;49m\u001b[43m,\u001b[49m\u001b[43m \u001b[49m\u001b[33;43m\"\u001b[39;49m\u001b[33;43mr\u001b[39;49m\u001b[33;43m\"\u001b[39;49m\u001b[43m)\u001b[49m \u001b[38;5;28;01mas\u001b[39;00m file:\n\u001b[32m      8\u001b[39m         \u001b[38;5;28mprint\u001b[39m(file.read())\n\u001b[32m     10\u001b[39m \u001b[38;5;28;01mexcept\u001b[39;00m \u001b[38;5;167;01mPermissionError\u001b[39;00m:\n",
      "\u001b[36mFile \u001b[39m\u001b[32m~\\AppData\\Roaming\\Python\\Python313\\site-packages\\IPython\\core\\interactiveshell.py:343\u001b[39m, in \u001b[36m_modified_open\u001b[39m\u001b[34m(file, *args, **kwargs)\u001b[39m\n\u001b[32m    336\u001b[39m \u001b[38;5;28;01mif\u001b[39;00m file \u001b[38;5;129;01min\u001b[39;00m {\u001b[32m0\u001b[39m, \u001b[32m1\u001b[39m, \u001b[32m2\u001b[39m}:\n\u001b[32m    337\u001b[39m     \u001b[38;5;28;01mraise\u001b[39;00m \u001b[38;5;167;01mValueError\u001b[39;00m(\n\u001b[32m    338\u001b[39m         \u001b[33mf\u001b[39m\u001b[33m\"\u001b[39m\u001b[33mIPython won\u001b[39m\u001b[33m'\u001b[39m\u001b[33mt let you open fd=\u001b[39m\u001b[38;5;132;01m{\u001b[39;00mfile\u001b[38;5;132;01m}\u001b[39;00m\u001b[33m by default \u001b[39m\u001b[33m\"\u001b[39m\n\u001b[32m    339\u001b[39m         \u001b[33m\"\u001b[39m\u001b[33mas it is likely to crash IPython. If you know what you are doing, \u001b[39m\u001b[33m\"\u001b[39m\n\u001b[32m    340\u001b[39m         \u001b[33m\"\u001b[39m\u001b[33myou can use builtins\u001b[39m\u001b[33m'\u001b[39m\u001b[33m open.\u001b[39m\u001b[33m\"\u001b[39m\n\u001b[32m    341\u001b[39m     )\n\u001b[32m--> \u001b[39m\u001b[32m343\u001b[39m \u001b[38;5;28;01mreturn\u001b[39;00m \u001b[43mio_open\u001b[49m\u001b[43m(\u001b[49m\u001b[43mfile\u001b[49m\u001b[43m,\u001b[49m\u001b[43m \u001b[49m\u001b[43m*\u001b[49m\u001b[43margs\u001b[49m\u001b[43m,\u001b[49m\u001b[43m \u001b[49m\u001b[43m*\u001b[49m\u001b[43m*\u001b[49m\u001b[43mkwargs\u001b[49m\u001b[43m)\u001b[49m\n",
      "\u001b[31mFileNotFoundError\u001b[39m: [Errno 2] No such file or directory: '/root/secret.txt'"
     ]
    }
   ],
   "source": [
    "# Handle PermissionError when opening a file\n",
    "try:\n",
    "    with open(\"test.txt\", \"w\") as file:\n",
    "        file.write(\"Hello, World!\")  # Writing should be fine\n",
    "\n",
    "    # Now try opening in read mode from a restricted path (simulate permission issue)\n",
    "    with open(\"/root/secret.txt\", \"r\") as file:\n",
    "        print(file.read())\n",
    "\n",
    "except PermissionError:\n",
    "    print(\"Permission denied: You do not have rights to open this file.\")\n"
   ]
  },
  {
   "cell_type": "code",
   "execution_count": 15,
   "id": "0bb3c06b",
   "metadata": {},
   "outputs": [
    {
     "name": "stdout",
     "output_type": "stream",
     "text": [
      "Index out of range: Please use a valid list index.\n"
     ]
    }
   ],
   "source": [
    "# Handle IndexError when index is out of range\n",
    "my_list = [10, 20, 30]\n",
    "\n",
    "try:\n",
    "    print(my_list[5])  # Index out of range\n",
    "except IndexError:\n",
    "    print(\"Index out of range: Please use a valid list index.\")\n"
   ]
  },
  {
   "cell_type": "code",
   "execution_count": 18,
   "id": "7b11f7a9",
   "metadata": {},
   "outputs": [
    {
     "name": "stdout",
     "output_type": "stream",
     "text": [
      "You entered: 123\n"
     ]
    }
   ],
   "source": [
    "# Handle KeyboardInterrupt when input is cancelled\n",
    "try:\n",
    "    num = input(\"Enter a number (Press Ctrl+C to cancel): \")\n",
    "    print(\"You entered:\", num)\n",
    "except KeyboardInterrupt:\n",
    "    print(\"\\nInput cancelled by the user.\")\n"
   ]
  },
  {
   "cell_type": "code",
   "execution_count": 19,
   "id": "e3afb802",
   "metadata": {},
   "outputs": [
    {
     "name": "stdout",
     "output_type": "stream",
     "text": [
      "An arithmetic error occurred (e.g., division by zero).\n"
     ]
    }
   ],
   "source": [
    "#  Handle ArithmeticError\n",
    "try:\n",
    "    a = 10\n",
    "    b = 0\n",
    "    result = a / b  # ZeroDivisionError is a subclass of ArithmeticError\n",
    "    print(result)\n",
    "except ArithmeticError:\n",
    "    print(\"An arithmetic error occurred (e.g., division by zero).\")\n"
   ]
  },
  {
   "cell_type": "code",
   "execution_count": 22,
   "id": "c21e0e6b",
   "metadata": {},
   "outputs": [
    {
     "ename": "FileNotFoundError",
     "evalue": "[Errno 2] No such file or directory: 'sample.txt'",
     "output_type": "error",
     "traceback": [
      "\u001b[31m---------------------------------------------------------------------------\u001b[39m",
      "\u001b[31mFileNotFoundError\u001b[39m                         Traceback (most recent call last)",
      "\u001b[36mCell\u001b[39m\u001b[36m \u001b[39m\u001b[32mIn[22]\u001b[39m\u001b[32m, line 4\u001b[39m\n\u001b[32m      1\u001b[39m \u001b[38;5;66;03m# Handle UnicodeDecodeError\u001b[39;00m\n\u001b[32m      2\u001b[39m \u001b[38;5;28;01mtry\u001b[39;00m:\n\u001b[32m      3\u001b[39m     \u001b[38;5;66;03m# Opening with wrong encoding can cause UnicodeDecodeError\u001b[39;00m\n\u001b[32m----> \u001b[39m\u001b[32m4\u001b[39m     \u001b[38;5;28;01mwith\u001b[39;00m \u001b[38;5;28;43mopen\u001b[39;49m\u001b[43m(\u001b[49m\u001b[33;43m\"\u001b[39;49m\u001b[33;43msample.txt\u001b[39;49m\u001b[33;43m\"\u001b[39;49m\u001b[43m,\u001b[49m\u001b[43m \u001b[49m\u001b[33;43m\"\u001b[39;49m\u001b[33;43mrb\u001b[39;49m\u001b[33;43m\"\u001b[39;49m\u001b[43m)\u001b[49m \u001b[38;5;28;01mas\u001b[39;00m file:  \u001b[38;5;66;03m# Read in binary first\u001b[39;00m\n\u001b[32m      5\u001b[39m         data = file.read()\n\u001b[32m      7\u001b[39m     \u001b[38;5;66;03m# Now decode with wrong encoding\u001b[39;00m\n",
      "\u001b[36mFile \u001b[39m\u001b[32m~\\AppData\\Roaming\\Python\\Python313\\site-packages\\IPython\\core\\interactiveshell.py:343\u001b[39m, in \u001b[36m_modified_open\u001b[39m\u001b[34m(file, *args, **kwargs)\u001b[39m\n\u001b[32m    336\u001b[39m \u001b[38;5;28;01mif\u001b[39;00m file \u001b[38;5;129;01min\u001b[39;00m {\u001b[32m0\u001b[39m, \u001b[32m1\u001b[39m, \u001b[32m2\u001b[39m}:\n\u001b[32m    337\u001b[39m     \u001b[38;5;28;01mraise\u001b[39;00m \u001b[38;5;167;01mValueError\u001b[39;00m(\n\u001b[32m    338\u001b[39m         \u001b[33mf\u001b[39m\u001b[33m\"\u001b[39m\u001b[33mIPython won\u001b[39m\u001b[33m'\u001b[39m\u001b[33mt let you open fd=\u001b[39m\u001b[38;5;132;01m{\u001b[39;00mfile\u001b[38;5;132;01m}\u001b[39;00m\u001b[33m by default \u001b[39m\u001b[33m\"\u001b[39m\n\u001b[32m    339\u001b[39m         \u001b[33m\"\u001b[39m\u001b[33mas it is likely to crash IPython. If you know what you are doing, \u001b[39m\u001b[33m\"\u001b[39m\n\u001b[32m    340\u001b[39m         \u001b[33m\"\u001b[39m\u001b[33myou can use builtins\u001b[39m\u001b[33m'\u001b[39m\u001b[33m open.\u001b[39m\u001b[33m\"\u001b[39m\n\u001b[32m    341\u001b[39m     )\n\u001b[32m--> \u001b[39m\u001b[32m343\u001b[39m \u001b[38;5;28;01mreturn\u001b[39;00m \u001b[43mio_open\u001b[49m\u001b[43m(\u001b[49m\u001b[43mfile\u001b[49m\u001b[43m,\u001b[49m\u001b[43m \u001b[49m\u001b[43m*\u001b[49m\u001b[43margs\u001b[49m\u001b[43m,\u001b[49m\u001b[43m \u001b[49m\u001b[43m*\u001b[49m\u001b[43m*\u001b[49m\u001b[43mkwargs\u001b[49m\u001b[43m)\u001b[49m\n",
      "\u001b[31mFileNotFoundError\u001b[39m: [Errno 2] No such file or directory: 'sample.txt'"
     ]
    }
   ],
   "source": [
    "# Handle UnicodeDecodeError\n",
    "try:\n",
    "    # Opening with wrong encoding can cause UnicodeDecodeError\n",
    "    with open(\"sample.txt\", \"rb\") as file:  # Read in binary first\n",
    "        data = file.read()\n",
    "\n",
    "    # Now decode with wrong encoding\n",
    "    text = data.decode(\"ascii\")  # Might fail if file is UTF-8\n",
    "    print(text)\n",
    "\n",
    "except UnicodeDecodeError:\n",
    "    print(\"Encoding error: Unable to decode file content.\")\n"
   ]
  },
  {
   "cell_type": "code",
   "execution_count": 23,
   "id": "81df25ba",
   "metadata": {},
   "outputs": [
    {
     "name": "stdout",
     "output_type": "stream",
     "text": [
      "Attribute error: This list method does not exist.\n"
     ]
    }
   ],
   "source": [
    "# Handle AttributeError\n",
    "my_list = [1, 2, 3]\n",
    "\n",
    "try:\n",
    "    my_list.push(4)  # 'push' method does not exist for lists\n",
    "except AttributeError:\n",
    "    print(\"Attribute error: This list method does not exist.\")\n"
   ]
  },
  {
   "cell_type": "code",
   "execution_count": 29,
   "id": "cbe99e35",
   "metadata": {},
   "outputs": [
    {
     "name": "stdout",
     "output_type": "stream",
     "text": [
      "\n"
     ]
    }
   ],
   "source": [
    "# Write a Python program to read an entire text file.\n",
    "# Read the entire file\n",
    "with open(\"sample.txt\", \"r\") as f:\n",
    "    content = f.read()\n",
    "    print(content)\n"
   ]
  },
  {
   "cell_type": "code",
   "execution_count": 34,
   "id": "1e3c91c2",
   "metadata": {},
   "outputs": [
    {
     "name": "stdout",
     "output_type": "stream",
     "text": [
      "\n"
     ]
    }
   ],
   "source": [
    "#Write a Python program to read first n lines of a file.\n",
    "\n",
    "file_name = \"sample.txt\"\n",
    "\n",
    "# Open the file first\n",
    "with open(file_name, \"r\", encoding=\"utf-8\") as my_file:\n",
    "    line = my_file.readline()\n",
    "    print(line.strip())  # strip() removes the newline at the end\n",
    "\n"
   ]
  },
  {
   "cell_type": "code",
   "execution_count": null,
   "id": "d81ce63e",
   "metadata": {},
   "outputs": [],
   "source": [
    "# Program: Append text to a file and display the text\n",
    "\n",
    "file_name = \"sample.txt\"\n",
    "\n",
    "# Append text to the file\n",
    "with open(file_name, \"a\", encoding=\"utf-8\") as f:\n",
    "    text_to_append = input(\"Enter text to append: \")\n",
    "    f.write(text_to_append + \"\\n\")\n",
    "\n",
    "# Read and display the updated file content\n",
    "print(\"\\nUpdated file content:\")\n",
    "with open(file_name, \"r\", encoding=\"utf-8\") as f:\n",
    "    print(f.read())\n"
   ]
  },
  {
   "cell_type": "code",
   "execution_count": 3,
   "id": "5d86a23c",
   "metadata": {},
   "outputs": [
    {
     "name": "stdout",
     "output_type": "stream",
     "text": [
      "\n",
      "Last 10 lines:\n"
     ]
    }
   ],
   "source": [
    "# Read the last n lines of a file\n",
    "\n",
    "file_name = \"sample.txt\"\n",
    "n = int(input(\"Enter number of last lines to read: \"))\n",
    "\n",
    "with open(file_name, \"r\", encoding=\"utf-8\") as f:\n",
    "    lines = f.readlines()  # Read all lines into a list\n",
    "\n",
    "# Print the last n lines\n",
    "print(f\"\\nLast {n} lines:\")\n",
    "for line in lines[-n:]:\n",
    "    print(line.strip())\n"
   ]
  },
  {
   "cell_type": "code",
   "execution_count": 1,
   "id": "4b0a9645",
   "metadata": {},
   "outputs": [
    {
     "name": "stdout",
     "output_type": "stream",
     "text": [
      "File content as a list:\n",
      "[]\n"
     ]
    }
   ],
   "source": [
    "# Read a file line by line and store it into a list\n",
    "\n",
    "file_name = \"sample.txt\"\n",
    "\n",
    "with open(file_name, \"r\", encoding=\"utf-8\") as f:\n",
    "    lines_list = [line.strip() for line in f]  # strip() removes newline characters\n",
    "\n",
    "print(\"File content as a list:\")\n",
    "print(lines_list)\n"
   ]
  },
  {
   "cell_type": "code",
   "execution_count": 4,
   "id": "0df7a757",
   "metadata": {},
   "outputs": [
    {
     "name": "stdout",
     "output_type": "stream",
     "text": [
      "File content stored in a variable:\n",
      "[]\n"
     ]
    }
   ],
   "source": [
    "# Read a file line by line and store it into a variable\n",
    "\n",
    "file_name = \"sample.txt\"\n",
    "\n",
    "with open(file_name, \"r\", encoding=\"utf-8\") as f:\n",
    "    file_content = f.readlines()  # Stores all lines in a list\n",
    "\n",
    "print(\"File content stored in a variable:\")\n",
    "print(file_content)\n"
   ]
  },
  {
   "cell_type": "code",
   "execution_count": null,
   "id": "cdffb1d7",
   "metadata": {},
   "outputs": [],
   "source": [
    "#Read a file line by line and store it into an array\n",
    "\n",
    "file_name = \"sample.txt\"\n",
    "\n",
    "with open(file_name, \"r\") as f:\n",
    "    lines_array = [line.strip() for line in f]  # strip() removes newline characters\n",
    "\n",
    "print(\"File content as an array:\")\n",
    "print(lines_array)\n"
   ]
  },
  {
   "cell_type": "code",
   "execution_count": 8,
   "id": "ba15a51f",
   "metadata": {},
   "outputs": [
    {
     "ename": "ValueError",
     "evalue": "max() iterable argument is empty",
     "output_type": "error",
     "traceback": [
      "\u001b[31m---------------------------------------------------------------------------\u001b[39m",
      "\u001b[31mValueError\u001b[39m                                Traceback (most recent call last)",
      "\u001b[36mCell\u001b[39m\u001b[36m \u001b[39m\u001b[32mIn[8]\u001b[39m\u001b[32m, line 9\u001b[39m\n\u001b[32m      6\u001b[39m     words = f.read().split()  \u001b[38;5;66;03m# Split file into words\u001b[39;00m\n\u001b[32m      8\u001b[39m \u001b[38;5;66;03m# Find the length of the longest word\u001b[39;00m\n\u001b[32m----> \u001b[39m\u001b[32m9\u001b[39m max_length = \u001b[38;5;28mlen\u001b[39m(\u001b[38;5;28;43mmax\u001b[39;49m\u001b[43m(\u001b[49m\u001b[43mwords\u001b[49m\u001b[43m,\u001b[49m\u001b[43m \u001b[49m\u001b[43mkey\u001b[49m\u001b[43m=\u001b[49m\u001b[38;5;28;43mlen\u001b[39;49m\u001b[43m)\u001b[49m)\n\u001b[32m     11\u001b[39m \u001b[38;5;66;03m# Get all words that have the max length\u001b[39;00m\n\u001b[32m     12\u001b[39m longest_words = [word \u001b[38;5;28;01mfor\u001b[39;00m word \u001b[38;5;129;01min\u001b[39;00m words \u001b[38;5;28;01mif\u001b[39;00m \u001b[38;5;28mlen\u001b[39m(word) == max_length]\n",
      "\u001b[31mValueError\u001b[39m: max() iterable argument is empty"
     ]
    }
   ],
   "source": [
    "#Find the longest word(s) in a file\n",
    "\n",
    "file_name = \"sample.txt\"\n",
    "\n",
    "with open(file_name, \"r\") as f:\n",
    "    words = f.read().split()  # Split file into words\n",
    "\n",
    "# Find the length of the longest word\n",
    "max_length = len(max(words, key=len))\n",
    "\n",
    "# Get all words that have the max length\n",
    "longest_words = [word for word in words if len(word) == max_length]\n",
    "\n",
    "print(\"Longest word length:\", max_length)\n",
    "print(\"Longest word(s):\", longest_words)\n"
   ]
  },
  {
   "cell_type": "code",
   "execution_count": 5,
   "id": "a200085c",
   "metadata": {},
   "outputs": [
    {
     "name": "stdout",
     "output_type": "stream",
     "text": [
      "Number of lines: 0\n"
     ]
    }
   ],
   "source": [
    "# Count the number of lines in a text file\n",
    "\n",
    "file_name = \"sample.txt\"\n",
    "\n",
    "with open(file_name, \"r\") as f:\n",
    "    line_count = sum(1 for _ in f)  # Count lines by iterating through file\n",
    "\n",
    "print(\"Number of lines:\", line_count)\n"
   ]
  },
  {
   "cell_type": "code",
   "execution_count": null,
   "id": "ccd34755",
   "metadata": {},
   "outputs": [],
   "source": [
    "#Count the frequency of words in a file\n",
    "\n",
    "file_name = \"sample.txt\"\n",
    "\n",
    "with open(file_name, \"r\") as f:\n",
    "    text = f.read().lower()  # Convert to lowercase for uniform counting\n",
    "    words = text.split()     # Split text into words\n",
    "\n",
    "word_freq = {}\n",
    "\n",
    "for word in words:\n",
    "    word_freq[word] = word_freq.get(word, 0) + 1  # Count each word\n",
    "\n",
    "print(\"Word frequencies:\")\n",
    "for word, count in word_freq.items():\n",
    "    print(f\"{word}: {count}\")\n"
   ]
  },
  {
   "cell_type": "code",
   "execution_count": 9,
   "id": "a140cc79",
   "metadata": {},
   "outputs": [
    {
     "name": "stdout",
     "output_type": "stream",
     "text": [
      "File size: 0 bytes\n"
     ]
    }
   ],
   "source": [
    "#  Get the file size of a plain file\n",
    "\n",
    "import os\n",
    "\n",
    "file_name = \"sample.txt\"\n",
    "\n",
    "file_size = os.path.getsize(file_name)  # Get size in bytes\n",
    "\n",
    "print(f\"File size: {file_size} bytes\")\n"
   ]
  },
  {
   "cell_type": "code",
   "execution_count": 10,
   "id": "cb165576",
   "metadata": {},
   "outputs": [
    {
     "name": "stdout",
     "output_type": "stream",
     "text": [
      "List written to file successfully.\n"
     ]
    }
   ],
   "source": [
    "# Write a list to a file\n",
    "\n",
    "file_name = \"sample.txt\"\n",
    "my_list = [\"Apple\", \"Banana\", \"Cherry\", \"Mango\"]\n",
    "\n",
    "with open(file_name, \"w\") as f:\n",
    "    for item in my_list:\n",
    "        f.write(item + \"\\n\")  # Write each item on a new line\n",
    "\n",
    "print(\"List written to file successfully.\")\n"
   ]
  },
  {
   "cell_type": "code",
   "execution_count": 11,
   "id": "ee0094b6",
   "metadata": {},
   "outputs": [
    {
     "name": "stdout",
     "output_type": "stream",
     "text": [
      "Contents of 'sample.txt' copied to 'copy_sample.txt' successfully.\n"
     ]
    }
   ],
   "source": [
    "# Copy contents of a file to another file\n",
    "\n",
    "source_file = \"sample.txt\"\n",
    "destination_file = \"copy_sample.txt\"\n",
    "\n",
    "with open(source_file, \"r\") as src:\n",
    "    content = src.read()  # Read entire content\n",
    "\n",
    "with open(destination_file, \"w\") as dest:\n",
    "    dest.write(content)   # Write to new file\n",
    "\n",
    "print(f\"Contents of '{source_file}' copied to '{destination_file}' successfully.\")\n"
   ]
  },
  {
   "cell_type": "code",
   "execution_count": 15,
   "id": "c0701d9c",
   "metadata": {},
   "outputs": [
    {
     "name": "stdout",
     "output_type": "stream",
     "text": [
      "Lines from 'file1.txt' and 'file2.txt' combined into 'combined.txt'.\n"
     ]
    }
   ],
   "source": [
    "# Combine corresponding lines from two files\n",
    "\n",
    "file1 = \"file1.txt\"\n",
    "file2 = \"file2.txt\"\n",
    "output_file = \"combined.txt\"\n",
    "\n",
    "with open(file1, \"r\") as f1, open(file2, \"r\") as f2, open(output_file, \"w\") as out:\n",
    "    for line1, line2 in zip(f1, f2):\n",
    "        combined_line = line1.strip() + \" \" + line2.strip() + \"\\n\"\n",
    "        out.write(combined_line)\n",
    "\n",
    "print(f\"Lines from '{file1}' and '{file2}' combined into '{output_file}'.\")\n"
   ]
  },
  {
   "cell_type": "code",
   "execution_count": 16,
   "id": "53b55c5a",
   "metadata": {},
   "outputs": [
    {
     "name": "stdout",
     "output_type": "stream",
     "text": [
      "Random line: Banana\n"
     ]
    }
   ],
   "source": [
    "# Read a random line from a file\n",
    "\n",
    "import random\n",
    "\n",
    "file_name = \"sample.txt\"\n",
    "\n",
    "with open(file_name, \"r\") as f:\n",
    "    lines = f.readlines()  # Read all lines into a list\n",
    "\n",
    "random_line = random.choice(lines)  # Pick one random line\n",
    "print(\"Random line:\", random_line.strip())\n"
   ]
  },
  {
   "cell_type": "code",
   "execution_count": 17,
   "id": "810befd5",
   "metadata": {},
   "outputs": [
    {
     "name": "stdout",
     "output_type": "stream",
     "text": [
      "Is file closed? False\n",
      "Is file closed? True\n"
     ]
    }
   ],
   "source": [
    "# Check if a file is closed\n",
    "\n",
    "file_name = \"sample.txt\"\n",
    "\n",
    "f = open(file_name, \"r\")\n",
    "print(\"Is file closed?\", f.closed)  # False (file is still open)\n",
    "\n",
    "f.close()\n",
    "print(\"Is file closed?\", f.closed)  # True (file is now closed)\n"
   ]
  },
  {
   "cell_type": "code",
   "execution_count": 18,
   "id": "0f06e42a",
   "metadata": {},
   "outputs": [
    {
     "name": "stdout",
     "output_type": "stream",
     "text": [
      "File content without newlines:\n",
      "['Apple', 'Banana', 'Cherry', 'Mango']\n"
     ]
    }
   ],
   "source": [
    "# Remove newline characters from a file\n",
    "\n",
    "file_name = \"sample.txt\"\n",
    "\n",
    "with open(file_name, \"r\") as f:\n",
    "    lines = [line.strip() for line in f]  # Remove newline characters\n",
    "\n",
    "print(\"File content without newlines:\")\n",
    "print(lines)\n"
   ]
  },
  {
   "cell_type": "code",
   "execution_count": 19,
   "id": "a1dc9650",
   "metadata": {},
   "outputs": [
    {
     "name": "stdout",
     "output_type": "stream",
     "text": [
      "Number of words: 4\n"
     ]
    }
   ],
   "source": [
    "# Count number of words in a text file\n",
    "\n",
    "file_name = \"sample.txt\"\n",
    "\n",
    "with open(file_name, \"r\") as f:\n",
    "    text = f.read()       # Read entire file\n",
    "    words = text.split()  # Split by whitespace\n",
    "\n",
    "print(\"Number of words:\", len(words))\n"
   ]
  },
  {
   "cell_type": "code",
   "execution_count": null,
   "id": "da48bbdf",
   "metadata": {},
   "outputs": [
    {
     "name": "stdout",
     "output_type": "stream",
     "text": [
      "Characters extracted from files:\n",
      "[]\n"
     ]
    }
   ],
   "source": [
    "# Extract characters from multiple text files into a list\n",
    "\n",
    "file_names = [\"file1.txt\", \"file2.txt\", \"file3.txt\"]  # List of files\n",
    "characters_list = []\n",
    "\n",
    "for file_name in file_names:\n",
    "    with open(file_name, \"r\") as f:\n",
    "        content = f.read()  # Read entire file\n",
    "        characters_list.extend(list(content))  # Add each character to the list\n",
    "\n",
    "print(\"Characters extracted from files:\")\n",
    "print(characters_list)\n"
   ]
  },
  {
   "cell_type": "code",
   "execution_count": 22,
   "id": "6455b057",
   "metadata": {},
   "outputs": [
    {
     "name": "stdout",
     "output_type": "stream",
     "text": [
      "26 files A.txt to Z.txt have been created.\n"
     ]
    }
   ],
   "source": [
    "# Generate 26 text files named A.txt to Z.txt\n",
    "\n",
    "import string\n",
    "\n",
    "for letter in string.ascii_uppercase:  # 'A' to 'Z'\n",
    "    file_name = f\"{letter}.txt\"\n",
    "    with open(file_name, \"w\") as f:\n",
    "        f.write(f\"This is file {file_name}\\n\")\n",
    "\n",
    "print(\"26 files A.txt to Z.txt have been created.\")\n"
   ]
  },
  {
   "cell_type": "code",
   "execution_count": null,
   "id": "eb1b5f2d",
   "metadata": {},
   "outputs": [],
   "source": [
    "#Write a Python program to create a file where all letters of the English alphabet are listed with a specified number of letters on each line. \n",
    "# Create a file with English alphabet, specified letters per line\n",
    "\n",
    "import string\n",
    "\n",
    "file_name = \"alphabet.txt\"\n",
    "letters_per_line = int(input(\"Enter number of letters per line: \"))\n",
    "\n",
    "alphabet = string.ascii_uppercase  # A-Z\n",
    "\n",
    "with open(file_name, \"w\") as f:\n",
    "    for i in range(0, len(al20\n",
    "                          + letters_per_line] + \"\\n\")\n",
    "\n",
    "print(f\"File '{file_name}' created successfully.\")\n",
    "\n",
    " "
   ]
  },
  {
   "cell_type": "code",
   "execution_count": null,
   "id": "a71b2a30",
   "metadata": {},
   "outputs": [],
   "source": []
  },
  {
   "cell_type": "code",
   "execution_count": null,
   "id": "76d7e7fd",
   "metadata": {},
   "outputs": [],
   "source": []
  },
  {
   "cell_type": "code",
   "execution_count": null,
   "id": "e20cae1d",
   "metadata": {},
   "outputs": [],
   "source": []
  },
  {
   "cell_type": "code",
   "execution_count": null,
   "id": "b2c01b0f",
   "metadata": {},
   "outputs": [],
   "source": []
  }
 ],
 "metadata": {
  "kernelspec": {
   "display_name": "Python 3",
   "language": "python",
   "name": "python3"
  },
  "language_info": {
   "codemirror_mode": {
    "name": "ipython",
    "version": 3
   },
   "file_extension": ".py",
   "mimetype": "text/x-python",
   "name": "python",
   "nbconvert_exporter": "python",
   "pygments_lexer": "ipython3",
   "version": "3.13.5"
  }
 },
 "nbformat": 4,
 "nbformat_minor": 5
}
