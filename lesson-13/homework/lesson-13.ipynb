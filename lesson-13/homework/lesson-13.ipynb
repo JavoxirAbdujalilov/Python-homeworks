{
 "cells": [
  {
   "cell_type": "code",
   "execution_count": null,
   "id": "38f47359",
   "metadata": {},
   "outputs": [
    {
     "name": "stdout",
     "output_type": "stream",
     "text": [
      "Your age is 24 years, 8 months, 10, days.\n"
     ]
    }
   ],
   "source": [
    "# Age Calculator: Ask the user to enter their birthdate. Calculate and print their age in years, months, and days.\n",
    "from datetime import datetime, date\n",
    "birthday_date =  input('Enter your birthday(YYYY-MM-DD):')\n",
    "birthdate = datetime.strptime(birthday_date, \"%Y-%m-%d\").date()\n",
    "today = date.today()\n",
    "years =  today.year - birthdate.year\n",
    "months = today.month - birthdate.month\n",
    "days = today.day-birthdate.day\n",
    "\n",
    "if days < 0:\n",
    "    months -=1\n",
    "    last_month = (today.month - 1) if today.month > 1 else 12 \n",
    "    last_month_year = today.year if today.month > 1 else today.year -1 \n",
    "    days_in_last_month = (date(today.yaer, today.month,1)- date(last_month_year, last_month,1)).days\n",
    "    days += days_in_last_month\n",
    "\n",
    "if months < 0:\n",
    "    years -= 1 \n",
    "    months += 12\n",
    "\n",
    "print(f\"Your age is {years} years, {months} months, {days} days.\")"
   ]
  },
  {
   "cell_type": "code",
   "execution_count": null,
   "id": "bd937eff",
   "metadata": {},
   "outputs": [
    {
     "data": {
      "text/plain": [
       "364"
      ]
     },
     "execution_count": 17,
     "metadata": {},
     "output_type": "execute_result"
    }
   ],
   "source": [
    "# Days Until Next Birthday: Similar to the first exercise, but this time, calculate and print the number of days remaining until the user's next birthday.\n",
    "from datetime import datetime, date,timedelta\n",
    "birthday_date =  input('Enter your birthday(YYYY-MM-DD):')\n",
    "\n",
    "birthdate = datetime.strptime(birthday_date, \"%Y-%m-%d\").date()\n",
    "today = date.today()\n",
    "next_birthdate = birthdate.replace(year = today.year)\n",
    "if next_birthdate <= today:\n",
    "    next_birthdate = birthdate.replace(year=today.year + 1)\n",
    "remain_days = (next_birthdate - today).days\n",
    "remain_days"
   ]
  },
  {
   "cell_type": "code",
   "execution_count": 24,
   "id": "af352962",
   "metadata": {},
   "outputs": [
    {
     "name": "stdout",
     "output_type": "stream",
     "text": [
      "2025-08-30 09:10:41.149322\n",
      "2025-08-30 12:55:41.149322\n"
     ]
    }
   ],
   "source": [
    "#Meeting Scheduler: Ask the user to enter the current date and time, as well as the duration of a meeting in hours and minutes. Calculate and print the date and time when the meeting will end.\n",
    "from datetime import datetime, timedelta\n",
    "meeting_hours = float(input(\"Enter meeting hours:\") )\n",
    "meeting_minutes = float(input(\"Enter meeting minutes:\"))\n",
    "today = datetime.now()\n",
    "print(today)\n",
    "meeting_ends = today + timedelta(hours = meeting_hours, minutes = meeting_minutes)\n",
    "print(meeting_ends)\n"
   ]
  },
  {
   "cell_type": "code",
   "execution_count": 29,
   "id": "e9ce2ea5",
   "metadata": {},
   "outputs": [
    {
     "name": "stdout",
     "output_type": "stream",
     "text": [
      "Converted: 2025-08-30 10:30 (UTC+1)\n"
     ]
    }
   ],
   "source": [
    "#Timezone Converter: Create a program that allows the user to enter a date and time along with their current timezone, and then convert and print the date and time in another timezone of their choice.\n",
    "\n",
    "datee = input(\"Enter your time zone date(YYYY-MM-DD HH:MM)\")\n",
    "dt_time = datetime.strptime( datee, \"%Y-%m-%d %H:%M\")\n",
    "\n",
    "current_offset = 5 \n",
    "target_offset = 1 \n",
    "\n",
    "utc_time = dt_time -timedelta(hours=  current_offset)\n",
    "\n",
    "converted_date = utc_time + timedelta(hours=target_offset)\n",
    "print(\"Converted:\", converted_date.strftime(\"%Y-%m-%d %H:%M\"), f\"(UTC+{target_offset})\")\n",
    "\n",
    "\n",
    "\n",
    "\n"
   ]
  },
  {
   "cell_type": "code",
   "execution_count": 38,
   "id": "76da4254",
   "metadata": {},
   "outputs": [
    {
     "name": "stdout",
     "output_type": "stream",
     "text": [
      "Countdown started..\n",
      "\n",
      "Time`s up: 0 days 00:00:00\n"
     ]
    }
   ],
   "source": [
    "# Countdown Timer: Implement a countdown timer. Ask the user to input a future date and time, and then continuously print the time remaining until that point in regular intervals (e.g., every second).\n",
    "from datetime import datetime\n",
    "import time \n",
    "\n",
    "future_str = input(\"Enter future date and time (YYYY-MM-DD HH:MM:SS)\")\n",
    "future_time = datetime.strptime(future_str, \"%Y-%m-%d %H:%M:%S\")\n",
    "print(\"Countdown started..\\n\")\n",
    "\n",
    "\n",
    "while True:\n",
    "    now = datetime.now()\n",
    "    remaining_time = future_time - now\n",
    "\n",
    "    if remaining_time.total_seconds() <= 0:\n",
    "        print(\"Time`s up\")\n",
    "        break\n",
    "\n",
    "    days = remaining_time.days\n",
    "    hours,remainder = divmod(remaining_time.seconds, 3600)\n",
    "    minutes, seconds = divmod(remainder, 60)\n",
    "    print(f\"Time left: {days} days {hours:02d}:{minutes:02d}:{seconds:02d}\", end=\"\\r\")\n",
    "\n",
    "    time.sleep(1)\n"
   ]
  },
  {
   "cell_type": "code",
   "execution_count": 39,
   "id": "2a766ec6",
   "metadata": {},
   "outputs": [
    {
     "name": "stdout",
     "output_type": "stream",
     "text": [
      "❌Invalid email address\n"
     ]
    }
   ],
   "source": [
    "#Email Validator: Write a program that validates email addresses. Ask the user to input an email address, and check if it follows a valid email format.\n",
    "import re \n",
    "email = input(\"Enter your email address: \")\n",
    "pattern =  r\"^[a-zA-Z0-9._%+-] +@[a-zA-Z0-9.-] +\\.[a-zA-Z]{2,}$\"\n",
    "\n",
    "if re.match(pattern, email):\n",
    "    print(\"✅ Valid Email Address\")\n",
    "else:\n",
    "    print (\"❌Invalid email address\")\n",
    "\n",
    "    \n"
   ]
  },
  {
   "cell_type": "code",
   "execution_count": 46,
   "id": "30840593",
   "metadata": {},
   "outputs": [
    {
     "name": "stdout",
     "output_type": "stream",
     "text": [
      "Formatted phonw:  998(94) 977-97-72\n"
     ]
    }
   ],
   "source": [
    "import re \n",
    "phone = input(\"Enter your phone number: \")\n",
    "\n",
    "digits = re.sub(r\"\\D\", \"\", phone)\n",
    "\n",
    "if len(digits) == 12:\n",
    "    formatted = f\"{digits[0:3]}({digits[3:5]}) {digits[5:8]}-{digits[8:10]}-{digits[10:12]}\"\n",
    "    print(\"Formatted phonw: \", formatted)\n",
    "else:\n",
    "    print(\"Invalid phone number. Must be 12 digits \")"
   ]
  },
  {
   "cell_type": "code",
   "execution_count": null,
   "id": "659f86da",
   "metadata": {},
   "outputs": [],
   "source": []
  },
  {
   "cell_type": "code",
   "execution_count": null,
   "id": "75bd913b",
   "metadata": {},
   "outputs": [],
   "source": []
  },
  {
   "cell_type": "code",
   "execution_count": 49,
   "id": "2fff3f1a",
   "metadata": {},
   "outputs": [
    {
     "name": "stdout",
     "output_type": "stream",
     "text": [
      "✅ Strong password\n"
     ]
    }
   ],
   "source": [
    "#Password Strength Checker: Implement a password strength checker. Ask the user to input a password and check if it meets certain criteria (e.g., minimum length, contains at least one uppercase letter, one lowercase letter, and one digit).\n",
    "import re \n",
    "password = input(\"Enter your password: \")\n",
    "\n",
    "length_ok = len(password) >= 8\n",
    "upper_ok = re.search(r\"[A-Z]\", password) is not None\n",
    "lower_ok =  re.search(r\"[a-z]\", password) is not None\n",
    "digit_ok = re.search(r\"[0-9]\", password) is not None\n",
    "if length_ok & upper_ok & lower_ok & digit_ok:\n",
    "    print(\"✅ Strong password\")\n",
    "else: \n",
    "    print(\"Weak password. Please include:\")\n",
    "\n",
    "    if not length_ok:\n",
    "        print(\"- At least 8 characters\")\n",
    "    if not upper_ok:\n",
    "        print(\"- At leat one uppercase letter\")\n",
    "    if not lower_ok:\n",
    "        print(\"- At least one lowercase character\")\n",
    "    if not digit_ok:\n",
    "        print(\"- At least one digit\")\n",
    "\n",
    "\n"
   ]
  },
  {
   "cell_type": "code",
   "execution_count": null,
   "id": "6b4b0751",
   "metadata": {},
   "outputs": [
    {
     "name": "stdout",
     "output_type": "stream",
     "text": [
      "Found '' 38 times in the text\n"
     ]
    },
    {
     "name": "stdout",
     "output_type": "stream",
     "text": [
      "\n",
      "IPython -- An enhanced Interactive Python\n",
      "=========================================\n",
      "\n",
      "IPython offers a fully compatible replacement for the standard Python\n",
      "interpreter, with convenient shell features, special commands, command\n",
      "history mechanism and output results caching.\n",
      "\n",
      "At your system command line, type 'ipython -h' to see the command line\n",
      "options available. This document only describes interactive features.\n",
      "\n",
      "GETTING HELP\n",
      "------------\n",
      "\n",
      "Within IPython you have various way to access help:\n",
      "\n",
      "  ?         -> Introduction and overview of IPython's features (this screen).\n",
      "  object?   -> Details about 'object'.\n",
      "  object??  -> More detailed, verbose information about 'object'.\n",
      "  %quickref -> Quick reference of all IPython specific syntax and magics.\n",
      "  help      -> Access Python's own help system.\n",
      "\n",
      "If you are in terminal IPython you can quit this screen by pressing `q`.\n",
      "\n",
      "\n",
      "MAIN FEATURES\n",
      "-------------\n",
      "\n",
      "* Access to the standard Python help with object docstrings and the Python\n",
      "  manuals. Simply type 'help' (no quotes) to invoke it.\n",
      "\n",
      "* Magic commands: type %magic for information on the magic subsystem.\n",
      "\n",
      "* System command aliases, via the %alias command or the configuration file(s).\n",
      "\n",
      "* Dynamic object information:\n",
      "\n",
      "  Typing ?word or word? prints detailed information about an object. Certain\n",
      "  long strings (code, etc.) get snipped in the center for brevity.\n",
      "\n",
      "  Typing ??word or word?? gives access to the full information without\n",
      "  snipping long strings. Strings that are longer than the screen are printed\n",
      "  through the less pager.\n",
      "\n",
      "  The ?/?? system gives access to the full source code for any object (if\n",
      "  available), shows function prototypes and other useful information.\n",
      "\n",
      "  If you just want to see an object's docstring, type '%pdoc object' (without\n",
      "  quotes, and without % if you have automagic on).\n",
      "\n",
      "* Tab completion in the local namespace:\n",
      "\n",
      "  At any time, hitting tab will complete any available python commands or\n",
      "  variable names, and show you a list of the possible completions if there's\n",
      "  no unambiguous one. It will also complete filenames in the current directory.\n",
      "\n",
      "* Search previous command history in multiple ways:\n",
      "\n",
      "  - Start typing, and then use arrow keys up/down or (Ctrl-p/Ctrl-n) to search\n",
      "    through the history items that match what you've typed so far.\n",
      "\n",
      "  - Hit Ctrl-r: opens a search prompt. Begin typing and the system searches\n",
      "    your history for lines that match what you've typed so far, completing as\n",
      "    much as it can.\n",
      "\n",
      "  - %hist: search history by index.\n",
      "\n",
      "* Persistent command history across sessions.\n",
      "\n",
      "* Logging of input with the ability to save and restore a working session.\n",
      "\n",
      "* System shell with !. Typing !ls will run 'ls' in the current directory.\n",
      "\n",
      "* The reload command does a 'deep' reload of a module: changes made to the\n",
      "  module since you imported will actually be available without having to exit.\n",
      "\n",
      "* Verbose and colored exception traceback printouts. See the magic xmode and\n",
      "  xcolor functions for details (just type %magic).\n",
      "\n",
      "* Input caching system:\n",
      "\n",
      "  IPython offers numbered prompts (In/Out) with input and output caching. All\n",
      "  input is saved and can be retrieved as variables (besides the usual arrow\n",
      "  key recall).\n",
      "\n",
      "  The following GLOBAL variables always exist (so don't overwrite them!):\n",
      "  _i: stores previous input.\n",
      "  _ii: next previous.\n",
      "  _iii: next-next previous.\n",
      "  _ih : a list of all input _ih[n] is the input from line n.\n",
      "\n",
      "  Additionally, global variables named _i<n> are dynamically created (<n>\n",
      "  being the prompt counter), such that _i<n> == _ih[<n>]\n",
      "\n",
      "  For example, what you typed at prompt 14 is available as _i14 and _ih[14].\n",
      "\n",
      "  You can create macros which contain multiple input lines from this history,\n",
      "  for later re-execution, with the %macro function.\n",
      "\n",
      "  The history function %hist allows you to see any part of your input history\n",
      "  by printing a range of the _i variables. Note that inputs which contain\n",
      "  magic functions (%) appear in the history with a prepended comment. This is\n",
      "  because they aren't really valid Python code, so you can't exec them.\n",
      "\n",
      "* Output caching system:\n",
      "\n",
      "  For output that is returned from actions, a system similar to the input\n",
      "  cache exists but using _ instead of _i. Only actions that produce a result\n",
      "  (NOT assignments, for example) are cached. If you are familiar with\n",
      "  Mathematica, IPython's _ variables behave exactly like Mathematica's %\n",
      "  variables.\n",
      "\n",
      "  The following GLOBAL variables always exist (so don't overwrite them!):\n",
      "  _ (one underscore): previous output.\n",
      "  __ (two underscores): next previous.\n",
      "  ___ (three underscores): next-next previous.\n",
      "\n",
      "  Global variables named _<n> are dynamically created (<n> being the prompt\n",
      "  counter), such that the result of output <n> is always available as _<n>.\n",
      "\n",
      "  Finally, a global dictionary named _oh exists with entries for all lines\n",
      "  which generated output.\n",
      "\n",
      "* Directory history:\n",
      "\n",
      "  Your history of visited directories is kept in the global list _dh, and the\n",
      "  magic %cd command can be used to go to any entry in that list.\n",
      "\n",
      "* Auto-parentheses and auto-quotes (adapted from Nathan Gray's LazyPython)\n",
      "\n",
      "  1. Auto-parentheses\n",
      "        \n",
      "     Callable objects (i.e. functions, methods, etc) can be invoked like\n",
      "     this (notice the commas between the arguments)::\n",
      "       \n",
      "         In [1]: callable_ob arg1, arg2, arg3\n",
      "       \n",
      "     and the input will be translated to this::\n",
      "       \n",
      "         callable_ob(arg1, arg2, arg3)\n",
      "       \n",
      "     This feature is off by default (in rare cases it can produce\n",
      "     undesirable side-effects), but you can activate it at the command-line\n",
      "     by starting IPython with `--autocall 1`, set it permanently in your\n",
      "     configuration file, or turn on at runtime with `%autocall 1`.\n",
      "\n",
      "     You can force auto-parentheses by using '/' as the first character\n",
      "     of a line.  For example::\n",
      "       \n",
      "          In [1]: /globals             # becomes 'globals()'\n",
      "       \n",
      "     Note that the '/' MUST be the first character on the line!  This\n",
      "     won't work::\n",
      "       \n",
      "          In [2]: print /globals    # syntax error\n",
      "\n",
      "     In most cases the automatic algorithm should work, so you should\n",
      "     rarely need to explicitly invoke /. One notable exception is if you\n",
      "     are trying to call a function with a list of tuples as arguments (the\n",
      "     parenthesis will confuse IPython)::\n",
      "       \n",
      "          In [1]: zip (1,2,3),(4,5,6)  # won't work\n",
      "       \n",
      "     but this will work::\n",
      "       \n",
      "          In [2]: /zip (1,2,3),(4,5,6)\n",
      "          ------> zip ((1,2,3),(4,5,6))\n",
      "          Out[2]= [(1, 4), (2, 5), (3, 6)]\n",
      "\n",
      "     IPython tells you that it has altered your command line by\n",
      "     displaying the new command line preceded by -->.  e.g.::\n",
      "       \n",
      "          In [18]: callable list\n",
      "          -------> callable (list)\n",
      "\n",
      "  2. Auto-Quoting\n",
      "    \n",
      "     You can force auto-quoting of a function's arguments by using ',' as\n",
      "     the first character of a line.  For example::\n",
      "       \n",
      "          In [1]: ,my_function /home/me   # becomes my_function(\"/home/me\")\n",
      "\n",
      "     If you use ';' instead, the whole argument is quoted as a single\n",
      "     string (while ',' splits on whitespace)::\n",
      "       \n",
      "          In [2]: ,my_function a b c   # becomes my_function(\"a\",\"b\",\"c\")\n",
      "          In [3]: ;my_function a b c   # becomes my_function(\"a b c\")\n",
      "\n",
      "     Note that the ',' MUST be the first character on the line!  This\n",
      "     won't work::\n",
      "       \n",
      "          In [4]: x = ,my_function /home/me    # syntax error\n"
     ]
    }
   ],
   "source": [
    "# Word Finder: Develop a program that finds all occurrences of a specific word in a given text. Ask the user to input a word, and then search for and print all occurrences of that word in a sample text.\n",
    "import re \n",
    "\n",
    "text = \"\"\"Python is a powerful programming language.\n",
    "Many people love Python because Python is easy to learn and very versatile.\"\"\"\n",
    "word = input (\"Enter your searching word: \")\n",
    "\n",
    "matches = re.findall(rf\"\\b{word}\\b\", text, re.IGNORECASE)\n",
    "\n",
    "if matches:\n",
    "    print(F\"Found '{word}' {len(matches)} times in the text\")\n",
    "\n",
    "else:\n",
    "    print(f\"'{word}' not found in the text\")\n",
    "\n"
   ]
  },
  {
   "cell_type": "code",
   "execution_count": null,
   "id": "dd4f0c47",
   "metadata": {},
   "outputs": [
    {
     "name": "stdout",
     "output_type": "stream",
     "text": [
      "Found dates: \n",
      "- 2025-08-29\n",
      "- 29/09/2025\n"
     ]
    }
   ],
   "source": [
    "# Date Extractor: Write a program that extracts dates from a given text. Ask the user to input a text, and then identify and print all the dates present in the text.\n",
    "#The project started on 2025-08-29 and will end on 29/09/2025.\n",
    "import re\n",
    "text = input (\"Enter your text: \")\n",
    "\n",
    "pattern = r\"\\b(?:\\d{4}[-/]\\d{2}[-/]\\d{2}|\\d{2}[-/]\\d{2}[-/]\\d{4})\\b\"\n",
    "\n",
    "dates = re.findall(pattern, text)\n",
    "\n",
    "if dates:\n",
    "    print(\"Found dates: \")\n",
    "    for d in dates:\n",
    "        print(\"-\", d)\n",
    "else: \n",
    "    print(\"There is no dates\")"
   ]
  }
 ],
 "metadata": {
  "kernelspec": {
   "display_name": "Python 3",
   "language": "python",
   "name": "python3"
  },
  "language_info": {
   "codemirror_mode": {
    "name": "ipython",
    "version": 3
   },
   "file_extension": ".py",
   "mimetype": "text/x-python",
   "name": "python",
   "nbconvert_exporter": "python",
   "pygments_lexer": "ipython3",
   "version": "3.13.7"
  }
 },
 "nbformat": 4,
 "nbformat_minor": 5
}
