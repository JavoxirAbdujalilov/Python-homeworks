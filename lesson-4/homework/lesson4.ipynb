{
 "cells": [
  {
   "cell_type": "code",
   "execution_count": 6,
   "id": "9e404c36",
   "metadata": {},
   "outputs": [
    {
     "data": {
      "text/plain": [
       "{'apple': 10, 'banana': 5, 'cherry': 20, 'date': 15}"
      ]
     },
     "execution_count": 6,
     "metadata": {},
     "output_type": "execute_result"
    }
   ],
   "source": [
    "# Sort a Dictionary by Value\n",
    "# Write a Python script to sort (ascending and descending) a dictionary by value.\n",
    "my_dict = {\n",
    "    \"apple\": 10,\n",
    "    \"banana\": 5,\n",
    "    \"cherry\": 20,\n",
    "    \"date\": 15\n",
    "}\n",
    "sorted(my_dict, reverse = False)\n",
    "my_dict"
   ]
  },
  {
   "cell_type": "code",
   "execution_count": 16,
   "id": "68faf157",
   "metadata": {},
   "outputs": [
    {
     "name": "stdout",
     "output_type": "stream",
     "text": [
      "{0: 10, 1: 20, 2: 30, 5: 13}\n"
     ]
    }
   ],
   "source": [
    "# Add a Key to a Dictionary\n",
    "# Write a Python script to add a key to a dictionary.\n",
    "my_dict2 = {0: 10, 1: 20}\n",
    "my_dict2.update({2:30})\n",
    "my_dict2[5] = 13\n",
    "print(my_dict2)\n",
    "\n",
    "\n"
   ]
  },
  {
   "cell_type": "code",
   "execution_count": 18,
   "id": "0fe239c8",
   "metadata": {},
   "outputs": [
    {
     "name": "stdout",
     "output_type": "stream",
     "text": [
      "{1: 10, 2: 20, 3: 30, 4: 40, 5: 50, 6: 60}\n"
     ]
    }
   ],
   "source": [
    "# Concatenate Multiple Dictionaries\n",
    "# Write a Python script to concatenate the following dictionaries to create a new one.\n",
    "dict1 = {1: 10, 2: 20}\n",
    "dict2 = {3: 30, 4: 40}\n",
    "dict3 = {5: 50, 6: 60}\n",
    "combined_dict =  {**dict1, **dict2, **dict3}\n",
    "print(combined_dict)\n",
    "\n",
    "\n"
   ]
  },
  {
   "cell_type": "code",
   "execution_count": null,
   "id": "a971a48f",
   "metadata": {},
   "outputs": [
    {
     "name": "stdout",
     "output_type": "stream",
     "text": [
      "{1: 1, 2: 4, 3: 9, 4: 16, 5: 25}\n"
     ]
    }
   ],
   "source": [
    "# Generate a Dictionary with Squares\n",
    "# Write a Python script to generate and print a dictionary that contains a number (between 1 and n) in the form (x, x*x).\n",
    "\n",
    "# Sample Dictionary (n = 5):\n",
    "\n",
    "n = 5\n",
    "squares_dict1 = {}\n",
    "for x in range(1, n+1):\n",
    "    squares_dict1[x] = x*x\n",
    "   \n",
    "print(squares_dict1)\n",
    "\n",
    "\n",
    "\n",
    "\n"
   ]
  },
  {
   "cell_type": "code",
   "execution_count": 19,
   "id": "7318464c",
   "metadata": {},
   "outputs": [
    {
     "name": "stdout",
     "output_type": "stream",
     "text": [
      "{1: 1, 2: 4, 3: 9, 4: 16, 5: 25, 6: 36, 7: 49, 8: 64, 9: 81, 10: 100, 11: 121, 12: 144, 13: 169, 14: 196, 15: 225}\n"
     ]
    }
   ],
   "source": [
    "# Dictionary of Squares (1 to 15)\n",
    "# Write a Python script to print a dictionary where the keys are numbers between 1 and 15 (both included) and the values are the square of the keys.\n",
    "squares_dict = {}\n",
    "\n",
    "for x in range(1, 16):\n",
    "    squares_dict[x] = x * x\n",
    "\n",
    "print(squares_dict)\n",
    "\n",
    "\n",
    "\n"
   ]
  },
  {
   "cell_type": "code",
   "execution_count": 24,
   "id": "fde3ad27",
   "metadata": {},
   "outputs": [
    {
     "name": "stdout",
     "output_type": "stream",
     "text": [
      "{'apple', 'banana', 'cherry'}\n"
     ]
    }
   ],
   "source": [
    "#Create a Set\n",
    "#Write a Python program to create a set.\n",
    "my_set = {\"apple\", \"banana\", \"cherry\"}\n",
    "\n",
    "print(my_set)\n"
   ]
  },
  {
   "cell_type": "code",
   "execution_count": 25,
   "id": "c73ac7f6",
   "metadata": {},
   "outputs": [
    {
     "name": "stdout",
     "output_type": "stream",
     "text": [
      "apple\n",
      "banana\n",
      "cherry\n"
     ]
    }
   ],
   "source": [
    "#Iterate Over a Set\n",
    "#Write a Python program to iterate over sets.\n",
    "my_set = {\"apple\", \"banana\", \"cherry\"}\n",
    "for fruits in my_set:\n",
    "    print(fruits)"
   ]
  },
  {
   "cell_type": "code",
   "execution_count": 27,
   "id": "448ee0fa",
   "metadata": {},
   "outputs": [
    {
     "data": {
      "text/plain": [
       "{'ananas', 'apple', 'banana', 'cherry', 'limon'}"
      ]
     },
     "execution_count": 27,
     "metadata": {},
     "output_type": "execute_result"
    }
   ],
   "source": [
    "# Add Member(s) to a Set\n",
    "# Write a Python program to add member(s) to a set.\n",
    "my_set = {\"apple\", \"banana\", \"cherry\"}\n",
    "my_set.update([\"limon\", \"ananas\"])\n",
    "my_set\n"
   ]
  },
  {
   "cell_type": "code",
   "execution_count": null,
   "id": "a71f0ac7",
   "metadata": {},
   "outputs": [],
   "source": [
    "# Remove Item(s) from a Set\n",
    "# Write a Python program to remove item(s) from a given set.\n",
    "my_set1 = {\"apple\", \"banana\", \"cherry\"}\n",
    "my_set1.remove(\"apple\")\n",
    "print(my_set1)"
   ]
  },
  {
   "cell_type": "code",
   "execution_count": 29,
   "id": "2620f3ff",
   "metadata": {},
   "outputs": [
    {
     "name": "stdout",
     "output_type": "stream",
     "text": [
      "{'banana', 'cherry'}\n"
     ]
    }
   ],
   "source": [
    "my_set2 = {\"apple\", \"banana\", \"cherry\"}\n",
    "my_set2.discard(\"apple\")\n",
    "print(my_set1)"
   ]
  },
  {
   "cell_type": "code",
   "execution_count": null,
   "id": "a6ffcb3e",
   "metadata": {},
   "outputs": [],
   "source": []
  },
  {
   "cell_type": "code",
   "execution_count": null,
   "id": "9aaee031",
   "metadata": {},
   "outputs": [],
   "source": []
  },
  {
   "cell_type": "code",
   "execution_count": null,
   "id": "a83b91aa",
   "metadata": {},
   "outputs": [],
   "source": []
  }
 ],
 "metadata": {
  "kernelspec": {
   "display_name": "Python 3",
   "language": "python",
   "name": "python3"
  },
  "language_info": {
   "codemirror_mode": {
    "name": "ipython",
    "version": 3
   },
   "file_extension": ".py",
   "mimetype": "text/x-python",
   "name": "python",
   "nbconvert_exporter": "python",
   "pygments_lexer": "ipython3",
   "version": "3.13.5"
  }
 },
 "nbformat": 4,
 "nbformat_minor": 5
}
