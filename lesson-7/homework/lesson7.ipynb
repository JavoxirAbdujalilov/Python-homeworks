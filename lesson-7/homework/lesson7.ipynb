{
 "cells": [
  {
   "cell_type": "code",
   "execution_count": 8,
   "id": "2fb92727",
   "metadata": {},
   "outputs": [
    {
     "name": "stdout",
     "output_type": "stream",
     "text": [
      "False\n",
      "True\n"
     ]
    }
   ],
   "source": [
    "def is_prime(n):\n",
    "    if n<=1:\n",
    "        return False\n",
    "    \n",
    "    for i in range (2, n):\n",
    "        if n % i == 0:\n",
    "            return False\n",
    "        \n",
    "    return True\n",
    "\n",
    "print(is_prime(4))\n",
    "print(is_prime(7))\n"
   ]
  },
  {
   "cell_type": "code",
   "execution_count": 20,
   "id": "25c377dd",
   "metadata": {},
   "outputs": [
    {
     "data": {
      "text/plain": [
       "11"
      ]
     },
     "execution_count": 20,
     "metadata": {},
     "output_type": "execute_result"
    }
   ],
   "source": [
    "# digit_sum(k) funksiyasi\n",
    "# digit_sum(k) funksiyasini yozing, u k sonining raqamlari yig'indisini hisoblaydi.\n",
    "\n",
    "# Misollar:\n",
    "# Kiritish:\n",
    "# 24\n",
    "# Natija:\n",
    "# 6\n",
    "# (Izoh: 24 sonining raqamlari yig'indisi: 2 + 4 = 6.)\n",
    "\n",
    "# Kiritish:\n",
    "# 502\n",
    "# Natija:\n",
    "# 7\n",
    "# (Izoh: 502 sonining raqamlari yig'indisi: 5 + 0 + 2 = 7.)\n",
    "def digit_sum(k):\n",
    "    digit = [int(d) for d in str(k)]\n",
    "    return sum(digit)\n",
    "    \n",
    "digit_sum(56)\n",
    "   "
   ]
  },
  {
   "cell_type": "code",
   "execution_count": null,
   "id": "90d26523",
   "metadata": {},
   "outputs": [
    {
     "name": "stdout",
     "output_type": "stream",
     "text": [
      "2\n",
      "4\n",
      "8\n"
     ]
    }
   ],
   "source": [
    "#  Ikki sonning darajalari\n",
    "# Berilgan N sonidan oshmaydigan barcha 2 ning darajalarini (ya'ni, 2**k shaklidagi sonlarni) chop etuvchi funksiyani yozing.\n",
    "\n",
    "# Misol:\n",
    "# Kiritish:\n",
    "# 10\n",
    "# Natija:\n",
    "# 2 4 8\n",
    "# (Izoh: 10 dan kichik yoki teng bo'lgan 2 ning darajalari: 2, 4, 8.)\n",
    "def power(N):\n",
    "    a = 2 \n",
    "    b = 1\n",
    "    m = a**b\n",
    "    while m <= N:\n",
    "        print(m)\n",
    "        b +=1\n",
    "        m = a**b\n",
    "       \n",
    "        \n",
    "power(10)"
   ]
  },
  {
   "cell_type": "code",
   "execution_count": 48,
   "id": "c5346860",
   "metadata": {},
   "outputs": [
    {
     "name": "stdout",
     "output_type": "stream",
     "text": [
      "2\n",
      "4\n",
      "8\n"
     ]
    }
   ],
   "source": [
    "def power1(N):\n",
    "    m = 2\n",
    "    while m <= 10:\n",
    "        print(m)\n",
    "        m *=2 \n",
    "power(10)"
   ]
  }
 ],
 "metadata": {
  "kernelspec": {
   "display_name": "Python 3",
   "language": "python",
   "name": "python3"
  },
  "language_info": {
   "codemirror_mode": {
    "name": "ipython",
    "version": 3
   },
   "file_extension": ".py",
   "mimetype": "text/x-python",
   "name": "python",
   "nbconvert_exporter": "python",
   "pygments_lexer": "ipython3",
   "version": "3.13.5"
  }
 },
 "nbformat": 4,
 "nbformat_minor": 5
}
