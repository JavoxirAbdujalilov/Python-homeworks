{
 "cells": [
  {
   "cell_type": "code",
   "execution_count": null,
   "id": "ec48e170",
   "metadata": {},
   "outputs": [],
   "source": [
    "# # Step 1: Create virtual environment named 'myenv'\n",
    "# python -m venv myenv\n",
    "\n",
    "# # Step 2: Activate virtual environment\n",
    "# # Windows PowerShell:\n",
    "# .\\myenv\\Scripts\\Activate.ps1\n",
    "\n",
    "# # OR Windows Command Prompt:\n",
    "# .\\myenv\\Scripts\\activate\n",
    "\n",
    "# # OR macOS/Linux:\n",
    "# source myenv/bin/activate\n",
    "\n",
    "# # Step 3: Install packages (example: requests and numpy)\n",
    "# pip install requests numpy\n",
    "\n",
    "# # Step 4: List installed packages\n",
    "# pip list\n",
    "\n",
    "# # Step 5: Deactivate virtual environment when finished\n",
    "# deact\n"
   ]
  },
  {
   "cell_type": "code",
   "execution_count": null,
   "id": "ccb5147d",
   "metadata": {},
   "outputs": [],
   "source": [
    "def add(a, b):\n",
    "    return a + b\n",
    "\n",
    "def subtract(a, b):\n",
    "    return a - b\n",
    "\n",
    "def multiply(a, b):\n",
    "    return a * b\n",
    "\n",
    "def divide(a, b):\n",
    "    if b == 0:\n",
    "        return \"Error: Cannot divide by zero\"\n",
    "    return a / b\n"
   ]
  },
  {
   "cell_type": "code",
   "execution_count": null,
   "id": "53d246b0",
   "metadata": {},
   "outputs": [],
   "source": [
    "def reverse_string(s):\n",
    "    return s[::-1]\n",
    "\n",
    "def count_vowels(s):\n",
    "    vowels = 'aeiouAEIOU'\n",
    "    count = 0\n",
    "    for char in s:\n",
    "        if char in vowels:\n",
    "            count += 1\n",
    "    return count\n"
   ]
  },
  {
   "cell_type": "code",
   "execution_count": null,
   "id": "10e456c4",
   "metadata": {},
   "outputs": [],
   "source": [
    "import math\n",
    "\n",
    "def calculate_area(radius):\n",
    "    return math.pi * radius ** 2\n",
    "\n",
    "def calculate_circumference(radius):\n",
    "    return 2 * math.pi * radius\n",
    "def read_file(file_path):\n",
    "    with open(file_path, 'r') as f:\n",
    "        return f.read()\n",
    "def write_file(file_path, content):\n",
    "    with open(file_path, 'w') as f:\n",
    "        f.write(content)\n",
    "from geometry.circle import calculate_area, calculate_circumference\n",
    "from file_operations.file_reader import read_file\n",
    "from file_operations.file_writer import write_file\n",
    "\n",
    "radius = 5\n",
    "print(\"Area:\", calculate_area(radius))\n",
    "print(\"Circumference:\", calculate_circumference(radius))\n",
    "\n",
    "file_path = 'example.txt'\n",
    "write_file(file_path, 'Hello, World!')\n",
    "print(read_file(file_path))\n"
   ]
  },
  {
   "cell_type": "code",
   "execution_count": null,
   "id": "78e082d7",
   "metadata": {},
   "outputs": [],
   "source": []
  },
  {
   "cell_type": "code",
   "execution_count": null,
   "id": "f3a598bf",
   "metadata": {},
   "outputs": [],
   "source": []
  }
 ],
 "metadata": {
  "kernelspec": {
   "display_name": "Python 3",
   "language": "python",
   "name": "python3"
  },
  "language_info": {
   "codemirror_mode": {
    "name": "ipython",
    "version": 3
   },
   "file_extension": ".py",
   "mimetype": "text/x-python",
   "name": "python",
   "nbconvert_exporter": "python",
   "pygments_lexer": "ipython3",
   "version": "3.13.5"
  }
 },
 "nbformat": 4,
 "nbformat_minor": 5
}
